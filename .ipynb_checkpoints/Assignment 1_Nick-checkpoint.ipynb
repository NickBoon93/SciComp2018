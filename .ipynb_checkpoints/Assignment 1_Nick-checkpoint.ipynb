{
 "cells": [
  {
   "cell_type": "markdown",
   "metadata": {},
   "source": [
    "### Imports"
   ]
  },
  {
   "cell_type": "code",
   "execution_count": null,
   "metadata": {
    "collapsed": true
   },
   "outputs": [],
   "source": [
    "from scipy.sparse import diags\n",
    "import numpy as np\n",
    "import matplotlib.pyplot as plt\n",
    "from matplotlib import animation, rc\n",
    "#http://louistiao.me/posts/notebooks/embedding-matplotlib-animations-in-jupyter-notebooks/\n",
    "rc('animation', html='html5')"
   ]
  },
  {
   "cell_type": "markdown",
   "metadata": {},
   "source": [
    "### Functions"
   ]
  },
  {
   "cell_type": "code",
   "execution_count": null,
   "metadata": {
    "collapsed": true
   },
   "outputs": [],
   "source": [
    "def wave_timestep(dt,dx,c,cur,prev):\n",
    "    N = cur.shape[0]\n",
    "    \n",
    "    diagonals = [1] * (N-2) + [0],[0] + [-2] * (N-2) + [0],[0] + [1] * (N-2)\n",
    "    diag = diags(diagonals,[-1,0,1]).toarray()\n",
    "    \n",
    "    next_timestep = (c*dt/dx)**2 * diag.dot(cur) - prev + 2 * cur\n",
    "    \n",
    "    return next_timestep\n",
    "\n",
    "def vibrating_string(x,dt,c,cur,t_end,L):\n",
    "    dx = L/len(cur)\n",
    "    prev = cur\n",
    "    for i,t in enumerate(np.linspace(0,t_end,t_end/dt+1)):\n",
    "        next_timestep = wave_timestep(dt,dx,c,cur,prev)\n",
    "        prev = cur\n",
    "        cur = next_timestep\n",
    "    return cur"
   ]
  },
  {
   "cell_type": "code",
   "execution_count": null,
   "metadata": {
    "collapsed": true
   },
   "outputs": [],
   "source": [
    "N = 200\n",
    "x = np.linspace(0,1,N).reshape(N,1)\n",
    "\n",
    "#i.\n",
    "#initial = np.sin(2 * np.pi * x)\n",
    "#ii.\n",
    "#initial = np.sin(5 * np.pi * x)\n",
    "#iii.\n",
    "initial = np.zeros((N,1))\n",
    "initial[int(N/5):int(2*N/5)] = np.sin(5*np.pi*x[int(N/5):int(2*N/5)])\n",
    "\n",
    "end = vibrating_string(x,0.0001,1,initial,1,1)"
   ]
  },
  {
   "cell_type": "markdown",
   "metadata": {},
   "source": [
    "### Animation"
   ]
  },
  {
   "cell_type": "code",
   "execution_count": null,
   "metadata": {
    "collapsed": true
   },
   "outputs": [],
   "source": [
    "#see https://matplotlib.org/examples/animation/simple_anim.html\n",
    "fig,ax = plt.subplots()\n",
    "ax.set_ylim([-1,1])\n",
    "line, = ax.plot(x,initial)\n",
    "\n",
    "cur = initial\n",
    "prev = cur\n",
    "dx = 1/N\n",
    "dt = 0.001\n",
    "c = 1\n",
    "\n",
    "def init():\n",
    "    line.set_ydata(np.ma.array(x,mask=True))\n",
    "    return line,\n",
    "\n",
    "def animate(i):\n",
    "    global cur, prev\n",
    "    data = wave_timestep(dt,dx,c,cur,prev)\n",
    "    prev = cur\n",
    "    cur = data\n",
    "    line.set_ydata(cur)\n",
    "    return line,\n",
    "\n",
    "animation.FuncAnimation(fig,animate,np.arange(1,4000),init_func=init,interval=10,blit=True)"
   ]
  },
  {
   "cell_type": "markdown",
   "metadata": {
    "collapsed": true
   },
   "source": [
    "### 1.3 The Time Dependent Diffusion Equation"
   ]
  },
  {
   "cell_type": "code",
   "execution_count": null,
   "metadata": {
    "collapsed": true,
    "scrolled": false
   },
   "outputs": [],
   "source": [
    "def diff_timestep(dt,dx,D,cur):\n",
    "    N = cur.shape[0]\n",
    "    next_timestep = cur \n",
    "    for i in range(1,N-1):\n",
    "        for j in range(0,N):\n",
    "            left = int((N + i - 1) % N)\n",
    "            right = int((N + i + 1) % N)\n",
    "            next_timestep[i,j] = cur[i,j] + (dt * D)/(dx**2) * (cur[i-1,j]+cur[i+1,j]+cur[i,right]+cur[i,left]-4*cur[i,j])\n",
    "    return next_timestep\n",
    "\n",
    "N = 30\n",
    "D = 1\n",
    "t_end = 0.5\n",
    "dt = 0.00025\n",
    "dx = 1/N\n",
    "initial = np.zeros([N,N])\n",
    "initial[0,:] = 1\n",
    "print(4*dt*D/(dx**2))\n",
    "\n",
    "assert 4*dt*D/(dx**2) <= 1,\"Scheme is unstable for chosen values!\"\n",
    "\n",
    "fig, ax = plt.subplots()\n",
    "cur = initial\n",
    "im = ax.imshow(cur, extent = [0,1,1,0])\n",
    "cb = fig.colorbar(im)\n",
    "\n",
    "def animate(i):\n",
    "    global cur\n",
    "    cur = diff_timestep(dt,dx,D,cur)\n",
    "    im.set_data(cur)\n",
    "    im.set_clim(0,1)\n",
    "    \n",
    "timesteps = int(t_end / dt)\n",
    "animation.FuncAnimation(fig,animate,frames=timesteps,interval=10)"
   ]
  },
  {
   "cell_type": "code",
   "execution_count": null,
   "metadata": {
    "collapsed": true
   },
   "outputs": [],
   "source": []
  }
 ],
 "metadata": {
  "kernelspec": {
   "display_name": "Python 3",
   "language": "python",
   "name": "python3"
  },
  "language_info": {
   "codemirror_mode": {
    "name": "ipython",
    "version": 3
   },
   "file_extension": ".py",
   "mimetype": "text/x-python",
   "name": "python",
   "nbconvert_exporter": "python",
   "pygments_lexer": "ipython3",
   "version": "3.6.2"
  }
 },
 "nbformat": 4,
 "nbformat_minor": 2
}
