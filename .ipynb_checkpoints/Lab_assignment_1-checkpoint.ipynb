{
 "cells": [
  {
   "cell_type": "markdown",
   "metadata": {},
   "source": [
    "## Lab Assignment 1 Scientific Computing"
   ]
  },
  {
   "cell_type": "code",
   "execution_count": null,
   "metadata": {},
   "outputs": [],
   "source": [
    "import numpy as np\n",
    "from scipy.sparse import diags\n",
    "\n",
    "from matplotlib import pyplot as plt\n",
    "from matplotlib import animation,rc\n",
    "\n",
    "from IPython.display import HTML\n",
    "rc('animation',html='html5')\n",
    "\n",
    "from scipy.special import erfc\n",
    "\n",
    "from numba import jit\n",
    "\n",
    "import scipy\n",
    "import imageio"
   ]
  },
  {
   "cell_type": "markdown",
   "metadata": {},
   "source": [
    "### 1.2: Vibrating String\n",
    "\n",
    "In this exercise, we discretize the 1D wave equation to solve it numerically."
   ]
  },
  {
   "cell_type": "code",
   "execution_count": null,
   "metadata": {},
   "outputs": [],
   "source": [
    "# matrix with (part of) discretized terms in wave equation\n",
    "@jit\n",
    "def wave_discr_matrix(dt, L, N, x0, xL):\n",
    "    dx = L / N\n",
    "    diagonals = [[1] * (N - 2) + [0], [0] + [-2] * (N - 2) + [0], [0] + [1] * (N - 2)]\n",
    "    u_matrix = diags(diagonals, [-1, 0, 1]).toarray()\n",
    "    return u_matrix\n",
    "\n",
    "# function which returns next state vector based on previous and current\n",
    "@jit\n",
    "def time_step(discr_matrix, previous_vector, current_vector, c, dt, dx):\n",
    "    \n",
    "    next_state = ((c**2 * dt**2) / dx**2) * np.dot(discr_matrix, current_vector) - previous_vector + 2 * current_vector \n",
    "    return next_state\n",
    "\n",
    "# constants\n",
    "L = 1\n",
    "N = 100\n",
    "dx = L/N\n",
    "dt = 0.001\n",
    "t_end = 1.0\n",
    "timesteps = int(t_end / dt)\n",
    "c = 1\n",
    "\n",
    "# create vector with initial amplitudes on each x position\n",
    "x_vector = np.array([i for i in np.arange(0, L + L / N, L/N)]).reshape([N+1,1])\n",
    "current_state = np.array([np.sin(5 * np.pi * x) if 1/5<x<2/5 else 0 for x in x_vector])\n",
    "previous_state = current_state\n",
    "\n",
    "# discretized matrix\n",
    "discr_matrix = wave_discr_matrix(1, 1, current_state.shape[0], 0, 0)\n",
    "\n",
    "# find a series of next states and plot\n",
    "# First set up the figure, the axis, and the plot element we want to animate\n",
    "# make figure to plot in\n",
    "\n",
    "\n",
    "fig, ax = plt.subplots(figsize=(10,8))\n",
    "line, = ax.plot(x_vector, current_state)\n",
    "ax.set_ylim([-1,1])\n",
    "\n",
    "plot, ax_plot = plt.subplots(figsize=(10,10))\n",
    "\n",
    "# initialization function: plot the background of each frame\n",
    "def init():\n",
    "    line.set_ydata(np.ma.array(x_vector,mask=True))\n",
    "    return line,\n",
    "\n",
    "# animation function.  This is called sequentially\n",
    "def animate(i):\n",
    "    global previous_state, current_state\n",
    "    new_state = time_step(discr_matrix, previous_state, current_state, c, dt, dx)\n",
    "    previous_state = current_state\n",
    "    current_state = new_state\n",
    "    line.set_ydata(new_state)\n",
    "    if i % int(timesteps/10) == 0:\n",
    "        ax_plot.plot(x_vector, current_state, label=\"t = %.2f\"%(i*dt))\n",
    "    return line,\n",
    "\n",
    "# call the animator.  blit=True means only re-draw the parts that have changed.\n",
    "animation.FuncAnimation(fig, animate, init_func=init,\n",
    "                               frames=timesteps, interval=50, blit=True)"
   ]
  },
  {
   "cell_type": "code",
   "execution_count": null,
   "metadata": {},
   "outputs": [],
   "source": [
    "ax_plot.legend() #add legend to plot\n",
    "\n",
    "#set labels\n",
    "ax_plot.set_title(\"Vibrating string at various times\")\n",
    "ax_plot.set_xlabel(\"x\")\n",
    "ax_plot.set_ylabel(\"y\")\n",
    "\n",
    "#show figure\n",
    "plot"
   ]
  },
  {
   "cell_type": "markdown",
   "metadata": {},
   "source": [
    "### 1.3 The Time Dependent Diffusion Equation"
   ]
  },
  {
   "cell_type": "code",
   "execution_count": null,
   "metadata": {
    "collapsed": true
   },
   "outputs": [],
   "source": [
    "def diffusion_analytic(ymin,ymax,dy,D,t,n):\n",
    "    \"\"\"\n",
    "    Calculate analytic solution to diffusion equation\n",
    "    \n",
    "    Show plot and return state at time t    \n",
    "    \"\"\"\n",
    "    N = int((ymax - ymin) / dy)\n",
    "    state = np.zeros([N+1,N+1])\n",
    "    for j in range(0,N+1):\n",
    "        y = ymin + j * dy\n",
    "        state[j,:] = np.sum([erfc((1-y+2*i)/(2*np.sqrt(D*t)))\\\n",
    "                             -erfc((1+y+2*i)/(2*np.sqrt(D*t))) for i in range(n)])\n",
    "    fig, ax = plt.subplots(figsize=(10,10))\n",
    "    cax = ax.imshow(state,origin='lower')\n",
    "    fig.colorbar(cax)\n",
    "    ax.set_title(\"t = %.3f\"%t)\n",
    "    plt.show()\n",
    "    \n",
    "    return state\n",
    "\n",
    "# diffusion_analytic(0,1,0.05,1,0.1,10);"
   ]
  },
  {
   "cell_type": "code",
   "execution_count": null,
   "metadata": {
    "collapsed": true
   },
   "outputs": [],
   "source": [
    "@jit\n",
    "def diff_timestep(dt,dx,D,cur):\n",
    "    \"\"\"\n",
    "    Performs a single timestep of the diffusion equation    \n",
    "    \"\"\"\n",
    "    N = cur.shape[0]\n",
    "    next_timestep = cur.copy()\n",
    "    for i in range(1,N-1):\n",
    "        for j in range(0,N):\n",
    "            left = j-1 if not j==0 else N-1\n",
    "            right = j+1 if not j==N-1 else 0\n",
    "            next_timestep[i,j] = cur[i,j] + (dt * D)/(dx**2) * (cur[i-1,j]+cur[i+1,j]+cur[i,right]+cur[i,left]-4*cur[i,j])\n",
    "    return next_timestep\n",
    "\n",
    "def time_dep_diffusion(dt,dx,D,cur,tend):\n",
    "    \"\"\"\n",
    "    Performs 2D diffusion from t = 0 to t = tend\n",
    "    \n",
    "    \"\"\"\n",
    "    \n",
    "    t = 0\n",
    "    while t < tend:\n",
    "        cur = diff_timestep(dt,dx,D,cur)\n",
    "        t += dt\n",
    "    return cur"
   ]
  },
  {
   "cell_type": "code",
   "execution_count": null,
   "metadata": {
    "scrolled": false
   },
   "outputs": [],
   "source": [
    "N = 20\n",
    "D = 1\n",
    "t_end = 0.25\n",
    "dt = 0.000625\n",
    "dx = 1/N\n",
    "initial = np.zeros([N+1,N+1])\n",
    "initial[0,:] = 1\n",
    "\n",
    "assert 4*dt*D/(dx**2) <= 1,\"Scheme is unstable for chosen values!\"\n",
    "\n",
    "fig, ax = plt.subplots(figsize=(10,10))\n",
    "cur = initial\n",
    "im = ax.imshow(cur, extent = [0,1,1,0])\n",
    "cb = fig.colorbar(im)\n",
    "tx = ax.set_title('t = %.3f'%(0))\n",
    "ax.set_xlabel(\"x\")\n",
    "ax.set_ylabel(\"y\")\n",
    "\n",
    "plot, ax_plot = plt.subplots(figsize=(10,10))\n",
    "\n",
    "def animate(i):\n",
    "    global cur\n",
    "    if i % int(timesteps/6) == 0:\n",
    "        ax_plot.plot(cur[:,0],label=\"t = %.2f\"%(i * dt))\n",
    "    cur = diff_timestep(dt,dx,D,cur)\n",
    "    im.set_data(cur)\n",
    "    im.set_clim(0,1) \n",
    "    tx.set_text(\"t = %.3f\"%(i * dt))\n",
    "    \n",
    "def init():\n",
    "    return\n",
    "    \n",
    "timesteps = int(t_end / dt)\n",
    "animation.FuncAnimation(fig,animate,init_func=init,frames=timesteps,interval=20)"
   ]
  },
  {
   "cell_type": "code",
   "execution_count": null,
   "metadata": {},
   "outputs": [],
   "source": [
    "ax_plot.legend() #add legend to plot\n",
    "\n",
    "#set labels\n",
    "ax_plot.set_title(\"Diffusion over time on the y-axis (x = 0)\")\n",
    "ax_plot.set_xlabel(\"y\")\n",
    "ax_plot.set_ylabel(\"Concentration\")\n",
    "\n",
    "#show figure\n",
    "plot             "
   ]
  },
  {
   "cell_type": "markdown",
   "metadata": {},
   "source": [
    "## The Jacobi Iteration"
   ]
  },
  {
   "cell_type": "code",
   "execution_count": null,
   "metadata": {
    "collapsed": true
   },
   "outputs": [],
   "source": [
    "@jit\n",
    "def jacobi(dx,D,cur,epsilon):\n",
    "    \"\"\"\n",
    "    Performs Jacobi iteration until convergence\n",
    "    \"\"\"\n",
    "    \n",
    "    dt = (1/4) * dx**2 / D\n",
    "    t = 0\n",
    "    \n",
    "    next_timestep = diff_timestep(dt,dx,D,cur)\n",
    "    while not (abs(next_timestep - cur) < epsilon).all():\n",
    "        cur = next_timestep\n",
    "        next_timestep = diff_timestep(dt,dx,D,cur)\n",
    "        t += dt\n",
    "    return next_timestep"
   ]
  },
  {
   "cell_type": "code",
   "execution_count": null,
   "metadata": {
    "scrolled": false
   },
   "outputs": [],
   "source": [
    "N = 50\n",
    "D = 1\n",
    "dx = 1/N\n",
    "initial = np.zeros([N+1,N+1])\n",
    "initial[0,:] = 1\n",
    "cur = initial\n",
    "\n",
    "%time arr = jacobi(dx,D,cur,0.000001)\n",
    "\n",
    "fig, ax = plt.subplots(figsize=(10,10))\n",
    "ax.imshow(arr, extent = [0,1,0,1])\n",
    "ax.set_title(\"Jacobi Iteration\")\n",
    "ax.set_xlabel(\"x\")\n",
    "ax.set_ylabel(\"y\")\n",
    "fig"
   ]
  },
  {
   "cell_type": "markdown",
   "metadata": {
    "collapsed": true
   },
   "source": [
    "# Gauss-Seidel Iteration"
   ]
  },
  {
   "cell_type": "code",
   "execution_count": null,
   "metadata": {
    "collapsed": true
   },
   "outputs": [],
   "source": [
    "@jit\n",
    "def diff_timestep_gs(cur, epsilon):\n",
    "    \"\"\"\n",
    "    Performs a single timestep of the diffusion equation for\n",
    "    Gauss-Seidel iterative method\n",
    "    \"\"\"\n",
    "    N = cur.shape[0]\n",
    "    conv_bool = True \n",
    "    for i in range(1,N-1):\n",
    "        for j in range(0,N):\n",
    "            prev = cur[i,j]\n",
    "            left = j-1 if not j==0 else N-1\n",
    "            right = j+1 if not j==N-1 else 0\n",
    "            cur[i,j] = 1/4 * (cur[i-1,j]+cur[i+1,j]+cur[i,right]+cur[i,left])\n",
    "            \n",
    "            # convergence condition\n",
    "            if abs(prev-cur[i,j]) > epsilon:\n",
    "                conv_bool = False        \n",
    "    return cur, conv_bool\n",
    "\n",
    "def gauss_seidel(cur,epsilon):\n",
    "    \"\"\"\n",
    "    Performs Gauss-Seidel iteration until convergence\n",
    "    \"\"\"\n",
    "    \n",
    "    cur, conv_bool = diff_timestep_gs(cur, epsilon)\n",
    "    while not conv_bool:\n",
    "        cur, conv_bool = diff_timestep_gs(cur, epsilon)\n",
    "    return cur "
   ]
  },
  {
   "cell_type": "code",
   "execution_count": null,
   "metadata": {},
   "outputs": [],
   "source": [
    "N = 50\n",
    "initial = np.zeros([N+1,N+1])\n",
    "initial[0,:] = 1\n",
    "cur = initial\n",
    "\n",
    "%time arr = gauss_seidel(cur,0.0001)\n",
    "\n",
    "fig, ax = plt.subplots(figsize=(10,10))\n",
    "ax.imshow(arr, extent = [0,1,0,1])\n",
    "ax.set_title(\"Gauss-Seidel Iteration\")\n",
    "ax.set_xlabel(\"x\")\n",
    "ax.set_ylabel(\"y\")\n",
    "fig"
   ]
  },
  {
   "cell_type": "markdown",
   "metadata": {},
   "source": [
    "## Successive Over Relaxation"
   ]
  },
  {
   "cell_type": "code",
   "execution_count": null,
   "metadata": {
    "collapsed": true
   },
   "outputs": [],
   "source": [
    "@jit\n",
    "def diff_timestep_sor(cur, epsilon, omega):\n",
    "    \"\"\"\n",
    "    Performs a single timestep of the diffusion equation for\n",
    "    Successive Over Relaxation method\n",
    "    \"\"\"\n",
    "    N = cur.shape[0]\n",
    "    conv_bool = True  \n",
    "   \n",
    "    # iterate over the domain\n",
    "    for i in range(1,N-1):\n",
    "        for j in range(0,N):\n",
    "            prev = cur[i,j]\n",
    "            left = j-1 if not j==0 else N-1\n",
    "            right = j+1 if not j==N-1 else 0\n",
    "\n",
    "            cur[i,j] = omega/4 * (cur[i-1,j]+cur[i+1,j]+cur[i,right]+cur[i,left])\\\n",
    "                   + (1-omega) * cur[i,j]\n",
    "            \n",
    "            # convergence condition\n",
    "            if abs(prev-cur[i,j]) > epsilon:\n",
    "                conv_bool = False  \n",
    "    return cur, conv_bool\n",
    "\n",
    "def sor(cur, epsilon, omega, image=None):\n",
    "    \"\"\"\n",
    "    Performs successive over relaxation until convergence\n",
    "    \"\"\"\n",
    "    \n",
    "    cur, conv_bool = diff_timestep_sor(cur, epsilon, omega)\n",
    "    if image is None:\n",
    "        while not conv_bool:\n",
    "            cur, conv_bool = diff_timestep_sor(cur, epsilon, omega)\n",
    "    else:\n",
    "        while not conv_bool:\n",
    "            cur, conv_bool = diff_timestep_sor_img(cur, epsilon, omega, image)\n",
    "    return cur "
   ]
  },
  {
   "cell_type": "code",
   "execution_count": null,
   "metadata": {},
   "outputs": [],
   "source": [
    "N = 50\n",
    "initial = np.zeros([N+1,N+1])\n",
    "initial[0,:] = 1\n",
    "cur = initial\n",
    "%time arr = sor(cur,0.0001, 1.92)\n",
    "fig, ax = plt.subplots(figsize=(10,10))\n",
    "ax.imshow(arr, extent = [0,1,0,1])\n",
    "fig"
   ]
  },
  {
   "cell_type": "code",
   "execution_count": null,
   "metadata": {
    "collapsed": true
   },
   "outputs": [],
   "source": [
    "# compute difference compared to analytical solution (to do)\n",
    "def MSE(result):\n",
    "    return sum(abs(np.linspace(1,0,N+1)-result[:,1])**2)"
   ]
  },
  {
   "cell_type": "markdown",
   "metadata": {},
   "source": [
    "## Adding an Object to the Domain"
   ]
  },
  {
   "cell_type": "code",
   "execution_count": null,
   "metadata": {
    "collapsed": true
   },
   "outputs": [],
   "source": [
    "@jit\n",
    "def diff_timestep_sor_img(cur, epsilon, omega, image):\n",
    "    \"\"\"\n",
    "    Performs a single timestep of the diffusion equation for\n",
    "    Successive Over Relaxation method\n",
    "    \"\"\"\n",
    "    N = cur.shape[0]\n",
    "    conv_bool = True \n",
    "    \n",
    "    # read image\n",
    "    assert cur.shape == image.shape, \"Cur and Image have to be the same size!\"\n",
    "        \n",
    "    # iterate over the domain\n",
    "    for i in range(1,N-1):\n",
    "        for j in range(0,N):\n",
    "            prev = cur[i,j]\n",
    "            left = j-1 if not j==0 else N-1\n",
    "            right = j+1 if not j==N-1 else 0\n",
    "            \n",
    "            if image[i,j] == True:\n",
    "                cur[i,j] = 0\n",
    "            else:\n",
    "                cur[i,j] = omega/4 * (cur[i-1,j]+cur[i+1,j]+cur[i,right]+cur[i,left])\\\n",
    "                       + (1-omega) * cur[i,j]\n",
    "            \n",
    "            # convergence condition\n",
    "            if abs(prev-cur[i,j]) > epsilon:\n",
    "                conv_bool = False  \n",
    "    return cur, conv_bool"
   ]
  },
  {
   "cell_type": "code",
   "execution_count": null,
   "metadata": {},
   "outputs": [],
   "source": [
    "object_array = imageio.imread('object.jpg', pilmode='L')\n",
    "fig, ax = plt.subplots(figsize=(10,10))\n",
    "ax.imshow(object_array, cmap='gray')\n",
    "fig"
   ]
  },
  {
   "cell_type": "code",
   "execution_count": null,
   "metadata": {},
   "outputs": [],
   "source": [
    "# true for object parts\n",
    "object_array = imageio.imread('object.jpg', pilmode='L') #re-read, as we modify 'in-place'\n",
    "object_array[object_array==0] = True\n",
    "object_array[object_array==255] = False\n",
    "object_array = np.array(object_array.astype(bool))\n",
    "object_array"
   ]
  },
  {
   "cell_type": "code",
   "execution_count": null,
   "metadata": {},
   "outputs": [],
   "source": [
    "N = 49 #50-1, as we want 50 points, including initial and endpoint\n",
    "initial = np.zeros([N+1,N+1])\n",
    "initial[0,:] = 1\n",
    "cur = initial\n",
    "%time arr = sor(cur,0.00001, 1.92, object_array)\n",
    "fig, ax = plt.subplots(figsize=(10,10))\n",
    "ax.imshow(arr, extent = [0,1,0,1], cmap='gist_rainbow')\n",
    "fig"
   ]
  },
  {
   "cell_type": "code",
   "execution_count": null,
   "metadata": {},
   "outputs": [],
   "source": [
    "fig, ax = plt.subplots(figsize=(10,10))\n",
    "ax.plot(arr[:,20])\n",
    "fig"
   ]
  }
 ],
 "metadata": {
  "kernelspec": {
   "display_name": "Python 3",
   "language": "python",
   "name": "python3"
  },
  "language_info": {
   "codemirror_mode": {
    "name": "ipython",
    "version": 3
   },
   "file_extension": ".py",
   "mimetype": "text/x-python",
   "name": "python",
   "nbconvert_exporter": "python",
   "pygments_lexer": "ipython3",
   "version": "3.4.5"
  }
 },
 "nbformat": 4,
 "nbformat_minor": 2
}
