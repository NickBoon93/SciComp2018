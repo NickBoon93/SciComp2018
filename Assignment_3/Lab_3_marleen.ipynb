{
 "cells": [
  {
   "cell_type": "markdown",
   "metadata": {},
   "source": [
    "## Lab Assignment 3 Scientific Computing\n",
    "\n",
    "Nick Boon & Marleen Rijksen"
   ]
  },
  {
   "cell_type": "code",
   "execution_count": 4,
   "metadata": {
    "collapsed": true
   },
   "outputs": [],
   "source": [
    "import numpy as np\n",
    "from numba import jit\n",
    "\n",
    "from scipy.sparse import spdiags \n",
    "from scipy.sparse.linalg import eigs\n",
    "from scipy.linalg import eig\n",
    "\n",
    "from scipy.sparse import diags\n",
    "\n",
    "import matplotlib.pyplot as plt\n",
    "%matplotlib inline\n",
    "\n",
    "from sklearn.preprocessing import normalize"
   ]
  },
  {
   "cell_type": "markdown",
   "metadata": {},
   "source": [
    "## Schrödinger's equation"
   ]
  },
  {
   "cell_type": "code",
   "execution_count": null,
   "metadata": {
    "collapsed": true
   },
   "outputs": [],
   "source": [
    "@jit\n",
    "def nabla_sq_1D(N):\n",
    "    \"\"\"\n",
    "    Function which creates matrix containing the discretized nabla^2 \n",
    "    operator.\n",
    "    \n",
    "    N = number of steps in domain\n",
    "    \"\"\"\n",
    "    diagonals = [[1] * (N - 2) + [0], [1] + [-2] * (N - 2) + [1], [0] + [1] * (N - 2)]\n",
    "    matrix = diags(diagonals, [-1, 0, 1]).toarray() \n",
    "    return matrix"
   ]
  },
  {
   "cell_type": "markdown",
   "metadata": {},
   "source": [
    "### Infinite potential well"
   ]
  },
  {
   "cell_type": "code",
   "execution_count": null,
   "metadata": {},
   "outputs": [],
   "source": [
    "N = 50 # number of steps\n",
    "a = 1 # width of well (starts at x = 0)\n",
    "dx = a/N\n",
    "\n",
    "# create matrix and find eigenvectors/values\n",
    "matrix = -0.5 * nabla_sq_1D(N) / (dx ** 2)\n",
    "eigen = eigs(matrix, k=4, which='SM')\n",
    "\n",
    "# find solution of certain state\n",
    "state = 0\n",
    "eigen_vec = eigen[1][:,state]\n",
    "eigen_val = eigen[0][state]\n",
    "print(((state + 1) ** 2 * np.pi ** 2)/ (2 * (a **2)))\n",
    "print(eigen_val)\n",
    "\n",
    "# x-axis contains values 0 to a in N steps\n",
    "x_axis = np.linspace(0, a, N)\n",
    "sol = np.array([np.sqrt(2 / a) * np.sin((state + 1) * np.pi * x / a) for x in x_axis])\n",
    "\n",
    "# normalize\n",
    "sol = normalize(sol.reshape(sol.shape[0],-1), norm='l2', axis=0).reshape(sol.shape)\n",
    "\n",
    "# print(np.linalg.norm(sol))\n",
    "\n",
    "# exact solution\n",
    "plt.plot(x_axis, abs(sol) ** 2, label='exact')\n",
    "plt.plot(x_axis, abs(eigen_vec) ** 2, label='numerical')\n",
    "plt.xlabel('x')\n",
    "plt.ylabel('$\\Psi$')\n",
    "plt.legend()"
   ]
  },
  {
   "cell_type": "markdown",
   "metadata": {},
   "source": [
    "### Finite potential well"
   ]
  },
  {
   "cell_type": "code",
   "execution_count": null,
   "metadata": {},
   "outputs": [],
   "source": [
    "def fin_well_discr(N, p, a, V0):\n",
    "    \"\"\"\n",
    "    Function which creates matrix for finite well problem.\n",
    "    \n",
    "    N = number of steps in domain\n",
    "    V0 is potential in the domain where V != 0 \n",
    "    \n",
    "    V = 0 for -a < x < a\n",
    "    V = V0 for -p < x < -a and a < x < p \n",
    "    \"\"\"\n",
    "    \n",
    "    # divide total length in N steps\n",
    "    dX = 2 * p / N\n",
    "    \n",
    "    # boundary between V=V0 and V=0 \n",
    "    boundary = int(abs(p-a)/dX)\n",
    "    \n",
    "    # create matrix \n",
    "    haha = -1 + V0\n",
    "    diagonals = [[-0.5] * (N - 1), [1 + V0] * boundary + [1] * (N - 2 * boundary) + [1 + V0] * boundary, [-0.5] * (N - 1)]\n",
    "    matrix = diags(diagonals, [-1, 0, 1]).toarray()\n",
    "    return matrix\n",
    "\n",
    "N = 100\n",
    "a = 3\n",
    "p = 7\n",
    "V0 = 1\n",
    "matrix = fin_well_discr(N, p, a, V0)\n",
    "print(matrix)\n",
    "\n",
    "eigen = eigs(matrix, k=1, which='SM')\n",
    "state = 0\n",
    "\n",
    "eigen_vec = eigen[1][:,state]\n",
    "eigen_val = eigen[0][state]\n",
    "print(eigen_val)\n",
    "\n",
    "# x-axis contains values -a to a in N steps\n",
    "x_axis = np.linspace(-p, p, N)\n",
    "\n",
    "# plot line for well\n",
    "plt.plot(x_axis, eigen_vec)\n",
    "plt.axvline(x=a, c='red')\n",
    "plt.axvline(x=-a, c='red')\n",
    "plt.xlabel('x')\n",
    "plt.ylabel('$\\Psi$')"
   ]
  },
  {
   "cell_type": "markdown",
   "metadata": {},
   "source": [
    "### Parabolic potential well"
   ]
  },
  {
   "cell_type": "code",
   "execution_count": 2,
   "metadata": {
    "collapsed": true
   },
   "outputs": [],
   "source": [
    "def parabolic_well_discr(N, a, b):\n",
    "    \"\"\"\n",
    "    Function which creates matrix for parabolic well problem. \n",
    "    \n",
    "    V = bx^2 (potential, x is position in domain)\n",
    "    a = range of domain (from -a to a)\n",
    "    N = number of steps in domain\n",
    "    \"\"\"\n",
    "    \n",
    "    # divide total domain in N steps\n",
    "    dX = 2 * a / N\n",
    "    \n",
    "    # create middle diagonal (1 + V(x))\n",
    "    diag = [(b * x ** 2 + 1/(dX ** 2)) for x in np.linspace(-a, a, N)]\n",
    "    \n",
    "    # create matrix \n",
    "    diagonals = [[-0.5 / (dX ** 2)] * (N - 1), diag, [-0.5 / (dX ** 2)] * (N - 1)]\n",
    "    matrix = diags(diagonals, [-1, 0, 1]).toarray()\n",
    "    return matrix"
   ]
  },
  {
   "cell_type": "code",
   "execution_count": 18,
   "metadata": {},
   "outputs": [
    {
     "name": "stdout",
     "output_type": "stream",
     "text": [
      "(0.501174603433+0j)\n",
      "0.5\n",
      "1.0\n",
      "1.0\n"
     ]
    },
    {
     "data": {
      "text/plain": [
       "<matplotlib.text.Text at 0x7f4379207320>"
      ]
     },
     "execution_count": 18,
     "metadata": {},
     "output_type": "execute_result"
    },
    {
     "data": {
      "image/png": "[encoded data removed]",
      "text/plain": [
       "<matplotlib.figure.Figure at 0x7f43793139e8>"
      ]
     },
     "metadata": {},
     "output_type": "display_data"
    }
   ],
   "source": [
    "N = 400\n",
    "a = 10\n",
    "b = 1/2\n",
    "matrix = parabolic_well_discr(N, a, b)\n",
    "eigen = eigs(matrix, k=5, which='SM')\n",
    "state = 0\n",
    "\n",
    "eigen_vec = eigen[1][:,state]\n",
    "eigen_val = eigen[0][state]\n",
    "\n",
    "# x-axis contains values -a to a in N steps\n",
    "x_axis = np.linspace(-a, a, N)\n",
    "\n",
    "# exact solution for b = 1/2 and state = 0\n",
    "sol = np.array([(1 / np.pi) ** (1 / 4) * np.exp((-1 * x ** 2) / 2) for x in x_axis])\n",
    "\n",
    "# normalize\n",
    "sol = normalize(sol.reshape(sol.shape[0],-1), norm='l2', axis=0).reshape(sol.shape)\n",
    "\n",
    "print(eigen_val) # these should be equal for first state...\n",
    "print((state + 1/2))\n",
    "\n",
    "print(np.linalg.norm(sol)) # should both be normalized to 1..\n",
    "print(np.linalg.norm(eigen_vec))\n",
    "\n",
    "# plot line for well\n",
    "plt.plot(x_axis, [b * (x ** 2) for x in x_axis], label='V')\n",
    "plt.plot(x_axis, abs(sol) ** 2, label='exact')\n",
    "plt.plot(x_axis, abs(eigen_vec ** 2), label='numerical')\n",
    "plt.xlim(-a/4,a/4)\n",
    "plt.ylim(0, 0.03)\n",
    "plt.legend()\n",
    "plt.xlabel('x')\n",
    "plt.ylabel('$\\Psi$')"
   ]
  },
  {
   "cell_type": "code",
   "execution_count": null,
   "metadata": {},
   "outputs": [],
   "source": [
    "a = 2\n",
    "N = 10\n",
    "dX  = 2 * a / N\n",
    "print(np.arange(-a, a, dX))\n",
    "print(np.linspace(-a, a, N))"
   ]
  },
  {
   "cell_type": "markdown",
   "metadata": {},
   "source": [
    " "
   ]
  }
 ],
 "metadata": {
  "kernelspec": {
   "display_name": "Python 3",
   "language": "python",
   "name": "python3"
  },
  "language_info": {
   "codemirror_mode": {
    "name": "ipython",
    "version": 3
   },
   "file_extension": ".py",
   "mimetype": "text/x-python",
   "name": "python",
   "nbconvert_exporter": "python",
   "pygments_lexer": "ipython3",
   "version": "3.6.1"
  }
 },
 "nbformat": 4,
 "nbformat_minor": 2
}
