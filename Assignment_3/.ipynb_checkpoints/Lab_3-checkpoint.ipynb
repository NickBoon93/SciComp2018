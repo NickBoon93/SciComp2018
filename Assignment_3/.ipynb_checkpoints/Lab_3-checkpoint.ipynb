{
 "cells": [
  {
   "cell_type": "markdown",
   "metadata": {},
   "source": [
    "## Lab Assignment 3 Scientific Computing\n",
    "\n",
    "Nick Boon & Marleen Rijksen"
   ]
  },
  {
   "cell_type": "code",
   "execution_count": null,
   "metadata": {},
   "outputs": [],
   "source": [
    "import numpy as np\n",
    "import matplotlib.pyplot as plt\n",
    "from scipy.sparse import spdiags\n",
    "from scipy.sparse.linalg import eigs\n",
    "from scipy.linalg import eig, eigh\n",
    "from mpl_toolkits.mplot3d.axes3d import Axes3D"
   ]
  },
  {
   "cell_type": "code",
   "execution_count": null,
   "metadata": {},
   "outputs": [],
   "source": [
    "#From https://rajeshrinet.github.io/blog/2016/gray-scott/\n",
    "def laplacian(shape):\n",
    "        \"\"\"\n",
    "        Construct a sparse matrix that applies the 5-point discretization\n",
    "        \n",
    "        Input:\n",
    "        shape - tuple of matrix shape (y,x)\n",
    "        \n",
    "        Output:\n",
    "        Sparse matrix that evaluates the 5-point discretization of a shape-sized matrix\n",
    "        \"\"\"\n",
    "        \n",
    "        M,N = shape\n",
    "        e=np.ones(N*M)\n",
    "        e2=([1]*(N-1)+[0])*M\n",
    "        e3=([0]+[1]*(N-1))*M\n",
    "        A=spdiags([-4*e,e2,e3,e,e],[0,-1,1,-N,N],N*M,N*M)\n",
    "        \n",
    "        return A"
   ]
  },
  {
   "cell_type": "code",
   "execution_count": null,
   "metadata": {},
   "outputs": [],
   "source": [
    "laplacian((5,3)).toarray()"
   ]
  },
  {
   "cell_type": "code",
   "execution_count": null,
   "metadata": {},
   "outputs": [],
   "source": [
    "eigh(laplacian((3,3)).toarray())"
   ]
  },
  {
   "cell_type": "markdown",
   "metadata": {},
   "source": [
    "### Show eigenmodes in 3D plot"
   ]
  },
  {
   "cell_type": "code",
   "execution_count": null,
   "metadata": {},
   "outputs": [],
   "source": [
    "#from https://stackoverflow.com/a/35126679\n",
    "def set_aspect_equal_3d(ax):\n",
    "    \"\"\"\n",
    "    Fix equal aspect bug for 3D plots in X and Y.    \n",
    "    \"\"\"\n",
    "\n",
    "    xlim = ax.get_xlim3d()\n",
    "    ylim = ax.get_ylim3d()\n",
    "\n",
    "    xmean = np.mean(xlim)\n",
    "    ymean = np.mean(ylim)\n",
    "\n",
    "    plot_radius = np.max([abs(lim - mean_)\n",
    "                       for lims, mean_ in ((xlim, xmean),\n",
    "                                           (ylim, ymean))\n",
    "                       for lim in lims])\n",
    "\n",
    "    ax.set_xlim3d([xmean - plot_radius, xmean + plot_radius])\n",
    "    ax.set_ylim3d([ymean - plot_radius, ymean + plot_radius])\n",
    "\n",
    "shape = (200,200)\n",
    "a = eigs(laplacian(shape))\n",
    "\n",
    "#from https://stackoverflow.com/a/8093043\n",
    "idx = a[0].argsort()[::-1]   \n",
    "\n",
    "# z = a[1][:,0].reshape(shape)\n",
    "\n",
    "#need this for interactive 3d plotting!\n",
    "%matplotlib notebook\n",
    "\n",
    "#create figure\n",
    "fig = plt.figure(figsize=(8,8))\n",
    "\n",
    "for i in idx:\n",
    "    # set up the axes\n",
    "    ax = fig.add_subplot(3, 2, i+1, projection='3d')\n",
    "\n",
    "    # create surface\n",
    "    x = np.arange(0, shape[1], 1)\n",
    "    y = np.arange(0, shape[0], 1)\n",
    "    x, y = np.meshgrid(x, y)\n",
    "    \n",
    "    #take only positive values, otherwise eigenmode shape not \n",
    "    #clearly visible\n",
    "    z = np.abs(a[1][:,i].reshape(shape).real)\n",
    "    \n",
    "    ax.plot_surface(x,y,z, rstride=3, cstride=3)\n",
    "    ax.set_title(\"eigenvalue: %.2f\"%(a[0][i].real))\n",
    "    ax.set_xlabel(\"x\")\n",
    "    ax.set_ylabel(\"y\")\n",
    "    ax.set_zlabel(\"amplitude\")\n",
    "    set_aspect_equal_3d(ax)\n",
    "fig.tight_layout()"
   ]
  },
  {
   "cell_type": "markdown",
   "metadata": {},
   "source": [
    "### Show eigenmode with heatmap"
   ]
  },
  {
   "cell_type": "code",
   "execution_count": null,
   "metadata": {},
   "outputs": [],
   "source": [
    "#create figure\n",
    "fig = plt.figure(figsize=(8,8))\n",
    "\n",
    "for i in idx:\n",
    "    # set up the axes\n",
    "    ax = fig.add_subplot(3, 2, i+1)\n",
    "\n",
    "    #take only positive values, otherwise very disturbing\n",
    "    #pattern caused by adjecent positive and negative values\n",
    "    z = np.abs(a[1][:,i].reshape(shape).real)\n",
    "\n",
    "    ax.imshow(z,origin='lower')\n",
    "    ax.set_title(\"eigenvalue: %.2f\"%(a[0][i].real))\n",
    "    ax.set_xlabel(\"x\")\n",
    "    ax.set_ylabel(\"y\")\n",
    "    ax.set_aspect('equal')\n",
    "fig.tight_layout()"
   ]
  }
 ],
 "metadata": {
  "kernelspec": {
   "display_name": "Python 3",
   "language": "python",
   "name": "python3"
  },
  "language_info": {
   "codemirror_mode": {
    "name": "ipython",
    "version": 3
   },
   "file_extension": ".py",
   "mimetype": "text/x-python",
   "name": "python",
   "nbconvert_exporter": "python",
   "pygments_lexer": "ipython3",
   "version": "3.6.5"
  }
 },
 "nbformat": 4,
 "nbformat_minor": 2
}
