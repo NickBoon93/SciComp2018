{
 "cells": [
  {
   "cell_type": "markdown",
   "metadata": {},
   "source": [
    "## Lab Assignment 3 Scientific Computing\n",
    "\n",
    "Nick Boon & Marleen Rijksen"
   ]
  },
  {
   "cell_type": "code",
   "execution_count": null,
   "metadata": {},
   "outputs": [],
   "source": [
    "import numpy as np\n",
    "import matplotlib.pyplot as plt\n",
    "from scipy.sparse import spdiags\n",
    "from scipy.sparse.linalg import eigs, eigsh\n",
    "from scipy.linalg import eig, eigh\n",
    "from scipy.linalg import solve\n",
    "from scipy.sparse.linalg import spsolve\n",
    "from mpl_toolkits.mplot3d.axes3d import Axes3D\n",
    "\n",
    "from matplotlib import animation, rc\n",
    "\n",
    "from IPython.display import HTML\n",
    "rc('animation', html='html5')"
   ]
  },
  {
   "cell_type": "code",
   "execution_count": null,
   "metadata": {},
   "outputs": [],
   "source": [
    "#need this for interactive 3d plotting!\n",
    "%matplotlib notebook"
   ]
  },
  {
   "cell_type": "markdown",
   "metadata": {},
   "source": [
    "# 3.1 Eigenmodes of drums or membranes of different shapes"
   ]
  },
  {
   "cell_type": "code",
   "execution_count": null,
   "metadata": {},
   "outputs": [],
   "source": [
    "#from https://stackoverflow.com/a/35126679\n",
    "def set_aspect_equal_3d(ax):\n",
    "    \"\"\"\n",
    "    Fix equal aspect bug for 3D plots in X and Y.    \n",
    "    \"\"\"\n",
    "\n",
    "    xlim = ax.get_xlim3d()\n",
    "    ylim = ax.get_ylim3d()\n",
    "\n",
    "    xmean = np.mean(xlim)\n",
    "    ymean = np.mean(ylim)\n",
    "\n",
    "    plot_radius = np.max([\n",
    "        abs(lim - mean_) for lims, mean_ in ((xlim, xmean), (ylim, ymean))\n",
    "        for lim in lims\n",
    "    ])\n",
    "\n",
    "    ax.set_xlim3d([xmean - plot_radius, xmean + plot_radius])\n",
    "    ax.set_ylim3d([ymean - plot_radius, ymean + plot_radius])\n",
    "\n",
    "#From https://rajeshrinet.github.io/blog/2016/gray-scott/\n",
    "def laplacian(shape):\n",
    "    \"\"\"\n",
    "    Construct a sparse matrix that applies the 5-point discretization\n",
    "\n",
    "    Input:\n",
    "    shape - tuple of matrix shape (y,x)\n",
    "\n",
    "    Output:\n",
    "    Sparse matrix that evaluates the 5-point discretization of a shape-sized matrix\n",
    "    \"\"\"\n",
    "\n",
    "    M, N = shape\n",
    "    e = np.ones(N * M)\n",
    "    e2 = ([1] * (N - 1) + [0]) * M\n",
    "    e3 = ([0] + [1] * (N - 1)) * M\n",
    "\n",
    "    A = spdiags([-4 * e, e2, e3, e, e], [0, -1, 1, -N, N], N * M, N * M)\n",
    "\n",
    "    return A\n",
    "\n",
    "def circular(r):\n",
    "    \"\"\"\n",
    "    Fill matrix with circle of size r    \n",
    "    \"\"\"\n",
    "    circle = np.zeros((r,r))\n",
    "    for i,x in enumerate(np.arange(-r/2+0.5,r/2+0.5)):\n",
    "        for j,y in enumerate(np.arange(-r/2+0.5,r/2+0.5)):\n",
    "            if np.sqrt(x ** 2 + y ** 2) <= r/2:\n",
    "                circle[j,i] = 1\n",
    "    return circle\n",
    "\n",
    "def laplacian_circle(r):\n",
    "    \"\"\"\n",
    "    Creates the laplacian matrix from a matrix containing\n",
    "    ones for sites part of the domain under consideration\n",
    "    \"\"\"\n",
    "    circle = circular(r)\n",
    "    \n",
    "    #also non-zero for sites not part of the circle!\n",
    "    #will otherwise have incorrect solutions, and the \n",
    "    #values outside the circle are zero anyways\n",
    "    self = np.ones(r*r) \n",
    "    \n",
    "    left = []\n",
    "    right = []\n",
    "    up = []\n",
    "    down = []\n",
    "    \n",
    "    #bruteforce solution :(\n",
    "    for j in range(r):\n",
    "        for i in range(r):\n",
    "            if i == 0:\n",
    "                left.append(0)\n",
    "            else:\n",
    "                if circle[j,i-1] == 1 and circle[j,i] == 1:\n",
    "                    left.append(1)\n",
    "                else:\n",
    "                    left.append(0)\n",
    "            if i == r-1:\n",
    "                right.append(0)\n",
    "            else:\n",
    "                if circle[j,i+1] == 1 and circle[j,i] == 1:\n",
    "                    right.append(1)\n",
    "                else:\n",
    "                    right.append(0)\n",
    "            if j == 0:\n",
    "                up.append(0)\n",
    "            else:\n",
    "                if circle[j-1,i] == 1 and circle[j,i] == 1:\n",
    "                    up.append(1)\n",
    "                else:\n",
    "                    up.append(0)\n",
    "            if j == r-1:\n",
    "                down.append(0)\n",
    "            else:\n",
    "                if circle[j+1,i] == 1 and circle[j,i] == 1:\n",
    "                    down.append(1)\n",
    "                else:\n",
    "                    down.append(0)\n",
    "\n",
    "    A = spdiags([-4 * self, left, right, up, down], [0, 1, -1, r, -r], r * r, r * r)\n",
    "    return A"
   ]
  },
  {
   "cell_type": "code",
   "execution_count": null,
   "metadata": {},
   "outputs": [],
   "source": [
    "def show_eigenmodes(shape, eigenmodes, membrane_shape='square'):\n",
    "    \"\"\"\n",
    "    Shows eigenmodes smalles eigenmodes. Can use 'square'-shaped\n",
    "    or 'circle'-shaped membrane\n",
    "    \n",
    "    For circular shapes, the eigs()-function may return less\n",
    "    eigenmodes. This seems to be random?\n",
    "    \"\"\"\n",
    "    k = eigenmodes\n",
    "\n",
    "    if membrane_shape == 'square':\n",
    "        a = eigs(laplacian(shape), which='SM', k=k)\n",
    "    elif membrane_shape == 'circle':\n",
    "        a = eigs(laplacian_circle(shape[0]), which='SM', k=k)\n",
    "    else:\n",
    "        raise ValueError(\"Membrane shape can only be 'square' or 'circle'.\")\n",
    "\n",
    "    eig_val = a[0][:eigenmodes]\n",
    "    eig_vec = a[1][:eigenmodes]\n",
    "\n",
    "    idx = np.abs(eig_val).argsort()\n",
    "    idx = idx[0:eigenmodes]\n",
    "\n",
    "    #create figure\n",
    "    #every row has width 8 and height 3\n",
    "    fig = plt.figure(figsize=(8, 3 * int((1 + len(idx)) / 2)))\n",
    "\n",
    "    for i, ix in enumerate(idx):\n",
    "        # set up the axes\n",
    "        ax = fig.add_subplot(\n",
    "            int((len(idx) + 1) / 2), 2, i + 1, projection='3d')\n",
    "\n",
    "        # create surface\n",
    "        x = np.arange(0, shape[1], 1)\n",
    "        y = np.arange(0, shape[0], 1)\n",
    "        x, y = np.meshgrid(x, y)\n",
    "\n",
    "        z = a[1][:, ix].reshape(shape).real\n",
    "\n",
    "        #frequency is 1/(c\\lambda)=1/(c sqrt(-K))\n",
    "\n",
    "        ax.plot_surface(x, y, z, rstride=3, cstride=3)\n",
    "        ax.set_title(\"eigenvalue: %.2e\\nfrequency: %.2f\" %\n",
    "                     (a[0][ix].real, np.sqrt(-a[0][ix].real)))\n",
    "        ax.set_xlabel(\"x\")\n",
    "        ax.set_ylabel(\"y\")\n",
    "        ax.set_zlabel(\"amplitude\")\n",
    "        set_aspect_equal_3d(ax)\n",
    "    fig.tight_layout()\n",
    "\n",
    "def get_eigenfrequencies(shape,eigenmodes,membrane_shape):\n",
    "    k = 5 * eigenmodes\n",
    "\n",
    "    if membrane_shape == 'square':\n",
    "        a = eigs(laplacian(shape), which='SM', k=k)\n",
    "    elif membrane_shape == 'circle':\n",
    "        a = eigs(laplacian_circle(shape[0]), which='SM', k=k)\n",
    "    else:\n",
    "        raise ValueError(\"Membrane shape can only be 'square' or 'circle'.\")\n",
    "    b = np.where(np.abs(a[0]) > 1E-6)\n",
    "\n",
    "    eig_val = sorted(np.sqrt(-a[0][b][:eigenmodes].real))\n",
    "    \n",
    "    return eig_val"
   ]
  },
  {
   "cell_type": "markdown",
   "metadata": {},
   "source": [
    "### Show eigenmodes in 3D plot"
   ]
  },
  {
   "cell_type": "code",
   "execution_count": null,
   "metadata": {
    "scrolled": false
   },
   "outputs": [],
   "source": [
    "show_eigenmodes((100,100),10,'square')"
   ]
  },
  {
   "cell_type": "code",
   "execution_count": null,
   "metadata": {},
   "outputs": [],
   "source": [
    "show_eigenmodes((50,100),10,'square')"
   ]
  },
  {
   "cell_type": "code",
   "execution_count": null,
   "metadata": {
    "scrolled": false
   },
   "outputs": [],
   "source": [
    "show_eigenmodes((100,100),10,'circle')"
   ]
  },
  {
   "cell_type": "markdown",
   "metadata": {},
   "source": [
    "##### Show spectrum of eigenfrequencies depending on L"
   ]
  },
  {
   "cell_type": "code",
   "execution_count": null,
   "metadata": {
    "scrolled": false
   },
   "outputs": [],
   "source": [
    "fig, ax = plt.subplots()\n",
    "for i in np.arange(10,105,3):\n",
    "    a = get_eigenfrequencies((i,i),10,'square')\n",
    "    ax.scatter([i]*10,a)\n"
   ]
  },
  {
   "cell_type": "code",
   "execution_count": null,
   "metadata": {},
   "outputs": [],
   "source": [
    "fig, ax = plt.subplots()\n",
    "for i in np.arange(10,105,3):\n",
    "    a = get_eigenfrequencies((i,i),10,'circle')\n",
    "    ax.scatter([i]*10,a)"
   ]
  },
  {
   "cell_type": "markdown",
   "metadata": {},
   "source": [
    "##### Show animation for square domain"
   ]
  },
  {
   "cell_type": "code",
   "execution_count": null,
   "metadata": {},
   "outputs": [],
   "source": [
    "#TODO: Find better method for this"
   ]
  },
  {
   "cell_type": "code",
   "execution_count": null,
   "metadata": {},
   "outputs": [],
   "source": [
    "%%capture\n",
    "\n",
    "shape = (20, 20)\n",
    "eigm = 0\n",
    "k = 25  #shape[0]*shape[1]-1\n",
    "a = eigsh(laplacian(shape),which='SM', k=k)\n",
    "b = np.where(np.abs(a[0])>1E-6)\n",
    "\n",
    "idx = (np.abs(a[0][b])).argsort()\n",
    "\n",
    "# create surface\n",
    "x = np.arange(0, shape[1], 1)\n",
    "y = np.arange(0, shape[0], 1)\n",
    "x, y = np.meshgrid(x, y)\n",
    "\n",
    "l = np.sqrt(-a[0][idx[eigm]])\n",
    "\n",
    "A = a[1][:,idx[eigm]].reshape(shape).real\n",
    "\n",
    "def animate(i):\n",
    "    global A, t, x, y\n",
    "    t += TIME_STEP\n",
    "    T = A * np.cos(np.sqrt(-a[0][idx[eigm]]) * t)\n",
    "    ax.clear()\n",
    "    ax.plot_surface(x, y, T, rstride=1, cstride=1)\n",
    "    ax.set_zlim3d(-0.1, 0.1)\n",
    "    ax.set_title(\"Time: %.2f\" % (t))\n",
    "    set_aspect_equal_3d(ax)\n",
    "    return ax\n",
    "\n",
    "# set some parameters\n",
    "FRAME_INTERVAL = 10\n",
    "TIME_STEP = 0.1\n",
    "NUM_FRAMES = int(2 * np.pi / (l * TIME_STEP))\n",
    "t = 0\n",
    "\n",
    "fig = plt.figure(figsize=(6, 6))\n",
    "# set up the axes\n",
    "ax = fig.add_subplot(1, 1, 1, projection='3d')\n",
    "\n",
    "ax.set_xlabel(\"x\")\n",
    "ax.set_ylabel(\"y\")\n",
    "ax.set_zlabel(\"amplitude\")\n",
    "ani = animation.FuncAnimation(\n",
    "    fig, animate, frames=NUM_FRAMES, interval=FRAME_INTERVAL, blit=True)"
   ]
  },
  {
   "cell_type": "code",
   "execution_count": null,
   "metadata": {},
   "outputs": [],
   "source": [
    "ani"
   ]
  },
  {
   "cell_type": "markdown",
   "metadata": {},
   "source": [
    "##### Show animation for circular domain"
   ]
  },
  {
   "cell_type": "code",
   "execution_count": null,
   "metadata": {},
   "outputs": [],
   "source": [
    "%%capture\n",
    "\n",
    "shape = (20, 20)\n",
    "eigm = 0\n",
    "k = 25\n",
    "a = eigsh(laplacian_circle(shape[0]),which='SM', k=k)\n",
    "b = np.where(np.abs(a[0])>1E-6)\n",
    "\n",
    "idx = (np.abs(a[0][b])).argsort()\n",
    "\n",
    "# create surface\n",
    "x = np.arange(0, shape[1], 1)\n",
    "y = np.arange(0, shape[0], 1)\n",
    "x, y = np.meshgrid(x, y)\n",
    "\n",
    "l = np.sqrt(-a[0][idx[eigm]])\n",
    "\n",
    "A = a[1][:,idx[eigm]].reshape(shape).real\n",
    "\n",
    "def animate(i):\n",
    "    global A, t, x, y\n",
    "    t += TIME_STEP\n",
    "    T = A * np.cos(np.sqrt(-a[0][idx[eigm]]) * t)\n",
    "    ax.clear()\n",
    "    ax.plot_surface(x, y, T, rstride=1, cstride=1)\n",
    "    ax.set_zlim3d(-0.1, 0.1)\n",
    "    ax.set_title(\"Time: %.2f\" % (t))\n",
    "    set_aspect_equal_3d(ax)\n",
    "    return ax\n",
    "\n",
    "# set some parameters\n",
    "FRAME_INTERVAL = 10\n",
    "TIME_STEP = 0.1\n",
    "NUM_FRAMES = int(2 * np.pi / (l * TIME_STEP))\n",
    "t = 0\n",
    "\n",
    "fig = plt.figure(figsize=(6, 6))\n",
    "# set up the axes\n",
    "ax = fig.add_subplot(1, 1, 1, projection='3d')\n",
    "\n",
    "ax.set_xlabel(\"x\")\n",
    "ax.set_ylabel(\"y\")\n",
    "ax.set_zlabel(\"amplitude\")\n",
    "ani = animation.FuncAnimation(\n",
    "    fig, animate, frames=NUM_FRAMES, interval=FRAME_INTERVAL, blit=True)"
   ]
  },
  {
   "cell_type": "code",
   "execution_count": null,
   "metadata": {},
   "outputs": [],
   "source": [
    "ani"
   ]
  },
  {
   "cell_type": "markdown",
   "metadata": {},
   "source": [
    "# 3.3 Direct methods for solving steady state problems"
   ]
  },
  {
   "cell_type": "code",
   "execution_count": null,
   "metadata": {},
   "outputs": [],
   "source": [
    "%matplotlib notebook\n",
    "\n",
    "def diffusion_direct_circle(size, source, radius):\n",
    "    \"\"\"\n",
    "    Solves the time-independent diffusion equation using\n",
    "    a direct method on a circle. The circle has a certain\n",
    "    radius and a single source. The (square) space is\n",
    "    discretized into size*size. \n",
    "    \n",
    "    Note that the exact\n",
    "    placement of the source depends on this discretization.\n",
    "    \n",
    "    \"\"\"\n",
    "    M = laplacian_circle(size)\n",
    "    b = np.zeros((size, size))\n",
    "    b[int(size / 2 + (size * source[1]) / (2 * radius)),\\\n",
    "      int(size / 2 + (size * source[0]) / (2 * radius))] = 1\n",
    "    b = b.reshape(size * size)\n",
    "\n",
    "    #gives negative concentrations?\n",
    "    c = -spsolve(M, b).reshape(size, size)\n",
    "\n",
    "    fig, ax = plt.subplots()\n",
    "    im = ax.imshow(c, origin='lower', extent=[-radius, radius,-radius, radius])\n",
    "    ax.set_xlabel(\"x\")\n",
    "    ax.set_ylabel(\"y\")\n",
    "    cb = plt.colorbar(im)\n",
    "    cb.set_label(\"concentration\")\n",
    "    return c\n",
    "\n",
    "\n",
    "diffusion_direct_circle(100, (0.6, 1.2), 2);"
   ]
  }
 ],
 "metadata": {
  "kernelspec": {
   "display_name": "Python 3",
   "language": "python",
   "name": "python3"
  },
  "language_info": {
   "codemirror_mode": {
    "name": "ipython",
    "version": 3
   },
   "file_extension": ".py",
   "mimetype": "text/x-python",
   "name": "python",
   "nbconvert_exporter": "python",
   "pygments_lexer": "ipython3",
   "version": "3.6.5"
  }
 },
 "nbformat": 4,
 "nbformat_minor": 2
}
