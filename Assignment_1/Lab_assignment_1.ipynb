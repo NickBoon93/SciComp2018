{
 "cells": [
  {
   "cell_type": "markdown",
   "metadata": {},
   "source": [
    "## Lab Assignment 1 Scientific Computing"
   ]
  },
  {
   "cell_type": "code",
   "execution_count": 2,
   "metadata": {
    "collapsed": true
   },
   "outputs": [],
   "source": [
    "import numpy as np\n",
    "from scipy.sparse import diags\n",
    "\n",
    "from matplotlib import pyplot as plt\n",
    "from matplotlib import animation,rc\n",
    "from mpl_toolkits.mplot3d.axes3d import Axes3D\n",
    "\n",
    "from IPython.display import HTML\n",
    "rc('animation',html='html5')\n",
    "\n",
    "from scipy.special import erfc\n",
    "\n",
    "from numba import jit\n",
    "\n",
    "import imageio"
   ]
  },
  {
   "cell_type": "markdown",
   "metadata": {},
   "source": [
    "### 1.2 Vibrating String"
   ]
  },
  {
   "cell_type": "code",
   "execution_count": null,
   "metadata": {
    "collapsed": true,
    "scrolled": false
   },
   "outputs": [],
   "source": [
    "# matrix with (part of) discretized terms in wave equation\n",
    "@jit\n",
    "def wave_discr_matrix(dt, L, N, x0, xL):\n",
    "    dx = L / N\n",
    "    diagonals = [[1] * (N - 2) + [0], [0] + [-2] * (N - 2) + [0], [0] + [1] * (N - 2)]\n",
    "    u_matrix = diags(diagonals, [-1, 0, 1]).toarray()\n",
    "    return u_matrix\n",
    "\n",
    "# function which returns next state vector based on previous and current\n",
    "@jit\n",
    "def time_step(discr_matrix, previous_vector, current_vector, c, dt, dx):\n",
    "    \n",
    "    next_state = ((c**2 * dt**2) / dx**2) * np.dot(discr_matrix, current_vector) - previous_vector + 2 * current_vector \n",
    "    return next_state\n",
    "\n",
    "# constants\n",
    "L = 1\n",
    "N = 100\n",
    "dx = L/N\n",
    "dt = 0.001\n",
    "t_end = 1.0\n",
    "timesteps = int(t_end / dt)\n",
    "c = 1\n",
    "\n",
    "# create vector with initial amplitudes on each x position\n",
    "x_vector = np.array([i for i in np.arange(0, L + L / N, L/N)]).reshape([N+1,1])\n",
    "\n",
    "#choose initial state\n",
    "init_state = 1\n",
    "\n",
    "if init_state == 1:\n",
    "    current_state = np.array([np.sin(2 * np.pi * x) for x in x_vector])\n",
    "    title_label = \"Vibrating string for $\\sin(2\\pi x)$\"\n",
    "elif init_state == 2:\n",
    "    current_state = np.array([np.sin(5 * np.pi * x) for x in x_vector])\n",
    "    title_label = \"Vibrating string for $\\sin(5\\pi x)$\"\n",
    "else:\n",
    "    current_state = np.array([np.sin(5 * np.pi * x) if 1/5<x<2/5 else 0 for x in x_vector])\n",
    "    title_label = \"Vibrating string for $\\sin(5\\pi x)$ between 0.2 and 0.4\"\n",
    "\n",
    "previous_state = current_state\n",
    "\n",
    "# discretized matrix\n",
    "discr_matrix = wave_discr_matrix(1, 1, current_state.shape[0], 0, 0)\n",
    "\n",
    "# find a series of next states and plot\n",
    "# First set up the figure, the axis, and the plot element we want to animate\n",
    "# make figure to plot in\n",
    "\n",
    "\n",
    "fig, ax = plt.subplots(figsize=(10,8))\n",
    "line, = ax.plot(x_vector, current_state)\n",
    "ax.set_ylim([-1.05,1.05])\n",
    "\n",
    "plot, ax_plot = plt.subplots(figsize=(10,8))\n",
    "ax.set_title(title_label)\n",
    "ax.set_xlabel(\"x\")\n",
    "\n",
    "# initialization function: plot the background of each frame\n",
    "def init():\n",
    "    line.set_ydata(np.ma.array(x_vector,mask=True))\n",
    "    return line,\n",
    "\n",
    "# animation function.  This is called sequentially\n",
    "def animate(i):\n",
    "    global previous_state, current_state\n",
    "    new_state = time_step(discr_matrix, previous_state, current_state, c, dt, dx)\n",
    "    previous_state = current_state\n",
    "    current_state = new_state\n",
    "    line.set_ydata(new_state)\n",
    "    if i % int(0.9 * timesteps/5) == 0:\n",
    "        #add state 5 times to plot throughout time\n",
    "        ax_plot.plot(x_vector, current_state, label=\"t = %.2f\"%(i*dt))\n",
    "    return line,\n",
    "\n",
    "# call the animator.  blit=True means only re-draw the parts that have changed.\n",
    "animation.FuncAnimation(fig, animate, init_func=init,\n",
    "                               frames=timesteps, interval=50, blit=True)"
   ]
  },
  {
   "cell_type": "code",
   "execution_count": null,
   "metadata": {
    "collapsed": true
   },
   "outputs": [],
   "source": [
    "ax_plot.legend() #add legend to plot\n",
    "\n",
    "#set labels\n",
    "ax_plot.set_title(title_label)\n",
    "ax_plot.set_xlabel(\"x\")\n",
    "\n",
    "plot.savefig(\"VibratingString_init%d.pdf\"%init_state)\n",
    "\n",
    "#show figure\n",
    "plot"
   ]
  },
  {
   "cell_type": "markdown",
   "metadata": {},
   "source": [
    "### 1.3 The Time Dependent Diffusion Equation"
   ]
  },
  {
   "cell_type": "code",
   "execution_count": null,
   "metadata": {
    "collapsed": true
   },
   "outputs": [],
   "source": [
    "def diffusion_analytic(ymin,ymax,dy,D,t,n):\n",
    "    \"\"\"\n",
    "    Calculate analytic solution to diffusion equation\n",
    "    \n",
    "    Show plot and return state at time t    \n",
    "    \"\"\"\n",
    "    N = int((ymax - ymin) / dy)\n",
    "    state = np.zeros([N+1,N+1])\n",
    "    for j in range(0,N+1):\n",
    "        y = ymax - j * dy\n",
    "        state[j,:] = np.sum([erfc((1-y+2*i)/(2*np.sqrt(D*t)))\\\n",
    "                             -erfc((1+y+2*i)/(2*np.sqrt(D*t))) for i in range(n)])\n",
    "        \n",
    "    return state\n",
    "\n",
    "ymin = 0\n",
    "ymax = 1\n",
    "dx = 0.05\n",
    "D = 1\n",
    "t = 0.1\n",
    "n = 10\n",
    "\n",
    "state = diffusion_analytic(ymin,ymax,dx,D,t,n)\n",
    "fig, ax = plt.subplots(figsize=(10,10))\n",
    "cax = ax.imshow(state,extent=[0,1,0,1])\n",
    "fig.colorbar(cax)\n",
    "ax.set_title(\"Analytic solution to the diffusion equation at t = %.3f\"%t)\n",
    "fig.savefig(\"Timedep_%.3f.pdf\"%t)\n",
    "fig"
   ]
  },
  {
   "cell_type": "code",
   "execution_count": null,
   "metadata": {
    "collapsed": true
   },
   "outputs": [],
   "source": [
    "@jit\n",
    "def diff_timestep(dt,dx,D,cur):\n",
    "    \"\"\"\n",
    "    Performs a single timestep of the diffusion equation    \n",
    "    \"\"\"\n",
    "    N = cur.shape[0]\n",
    "    next_timestep = cur.copy()\n",
    "    for i in range(1,N-1):\n",
    "        for j in range(0,N):\n",
    "            left = j-1 if not j==0 else N-1\n",
    "            right = j+1 if not j==N-1 else 0\n",
    "            next_timestep[i,j] = cur[i,j] + (dt * D)/(dx**2) * (cur[i-1,j]+cur[i+1,j]+cur[i,right]+cur[i,left]-4*cur[i,j])\n",
    "    return next_timestep\n",
    "\n",
    "def time_dep_diffusion(dt,dx,D,cur,tend):\n",
    "    \"\"\"\n",
    "    Performs 2D diffusion from t = 0 to t = tend\n",
    "    \n",
    "    \"\"\"\n",
    "    \n",
    "    t = 0\n",
    "    while t < tend:\n",
    "        cur = diff_timestep(dt,dx,D,cur)\n",
    "        t += dt\n",
    "    return cur"
   ]
  },
  {
   "cell_type": "code",
   "execution_count": null,
   "metadata": {
    "collapsed": true,
    "scrolled": false
   },
   "outputs": [],
   "source": [
    "def MSE_timedep_diffusion(cur,dt,ymin,ymax,dy,D,t_end):\n",
    "    n = 25\n",
    "    t = 0\n",
    "    \n",
    "    MSE_list = []\n",
    "    time_list = []\n",
    "    \n",
    "    while t <= t_end:\n",
    "        t += dt\n",
    "        true = diffusion_analytic(ymin,ymax,dy,D,t,n)\n",
    "        cur = diff_timestep(dt,dy,D,cur)\n",
    "        MSE = sum((true[:,1]-cur[:,1])**2)\n",
    "        \n",
    "        time_list.append(t)\n",
    "        MSE_list.append(MSE)\n",
    "    \n",
    "    return time_list, MSE_list\n",
    "\n",
    "N = 20\n",
    "D = 1\n",
    "t_end = 0.25\n",
    "dt = 0.000625\n",
    "dx = 1/N\n",
    "initial = np.zeros([N+1,N+1])\n",
    "initial[0,:] = 1\n",
    "\n",
    "fig, ax = plt.subplots(figsize=(10,10))\n",
    "time_list, MSE_list = MSE_timedep_diffusion(initial,dt,0,1,dx,D,t_end)\n",
    "ax.semilogy(time_list, MSE_list)\n",
    "ax.set_title(\"Error over time for time-dependent diffusion\")\n",
    "ax.set_xlabel(\"Time\")\n",
    "ax.set_ylabel(\"Sum of error squared\")\n",
    "ax.grid()\n",
    "fig.savefig(\"MSE_timedep.pdf\")\n",
    "fig"
   ]
  },
  {
   "cell_type": "code",
   "execution_count": null,
   "metadata": {
    "collapsed": true,
    "scrolled": false
   },
   "outputs": [],
   "source": [
    "N = 20\n",
    "D = 1\n",
    "t_end = 0.25\n",
    "dt = 0.000625\n",
    "dx = 1/N\n",
    "x = np.arange(0,1+dx,dx)\n",
    "\n",
    "initial = np.zeros([N+1,N+1])\n",
    "initial[0,:] = 1\n",
    "\n",
    "assert 4*dt*D/(dx**2) <= 1,\"Scheme is unstable for chosen values!\"\n",
    "\n",
    "fig, ax = plt.subplots(figsize=(10,10))\n",
    "cur = initial\n",
    "im = ax.imshow(cur, extent = [0,1,0,1])\n",
    "cb = fig.colorbar(im)\n",
    "tx = ax.set_title('t = %.3f'%(0))\n",
    "ax.set_xlabel(\"x\")\n",
    "ax.set_ylabel(\"y\")\n",
    "\n",
    "plot, ax_plot = plt.subplots()\n",
    "\n",
    "def animate(i):\n",
    "    global cur\n",
    "    if i % int(timesteps/6) == 0:\n",
    "        ax_plot.plot(x[::-1],cur[:,0],label=\"t = %.2f\"%(i * dt))\n",
    "    cur = diff_timestep(dt,dx,D,cur)\n",
    "    im.set_data(cur)\n",
    "    im.set_clim(0,1) \n",
    "    tx.set_text(\"t = %.3f\"%(i * dt))\n",
    "    \n",
    "def init():\n",
    "    return\n",
    "    \n",
    "timesteps = int(t_end / dt)\n",
    "animation.FuncAnimation(fig,animate,init_func=init,frames=timesteps,interval=20)"
   ]
  },
  {
   "cell_type": "code",
   "execution_count": null,
   "metadata": {
    "collapsed": true
   },
   "outputs": [],
   "source": [
    "ax_plot.legend() #add legend to plot\n",
    "\n",
    "#set labels\n",
    "ax_plot.set_title(\"Diffusion over time on the y-axis\")\n",
    "ax_plot.set_xlabel(\"y\")\n",
    "ax_plot.set_ylabel(\"Concentration\")\n",
    "ax_plot.grid()\n",
    "\n",
    "plot.savefig(\"DiffusionOverTime.pdf\")\n",
    "\n",
    "#show figure\n",
    "plot             "
   ]
  },
  {
   "cell_type": "markdown",
   "metadata": {},
   "source": [
    "## The Jacobi Iteration"
   ]
  },
  {
   "cell_type": "code",
   "execution_count": null,
   "metadata": {
    "collapsed": true
   },
   "outputs": [],
   "source": [
    "@jit\n",
    "def jacobi(dx,D,cur,epsilon):\n",
    "    \"\"\"\n",
    "    Performs Jacobi iteration until convergence\n",
    "    \"\"\"\n",
    "    \n",
    "    dt = (1/4) * dx**2 / D\n",
    "    \n",
    "    \n",
    "    #need to have next timestep to enter while-loop\n",
    "    next_timestep = diff_timestep(dt,dx,D,cur) \n",
    "    \n",
    "    #init at 1, as we have already done one iteration\n",
    "    i = 1\n",
    "    \n",
    "    #loop until convergence to specified accuracy\n",
    "    while not (abs(next_timestep - cur) < epsilon).all():\n",
    "        cur = next_timestep\n",
    "        next_timestep = diff_timestep(dt,dx,D,cur)\n",
    "        i += 1\n",
    "        \n",
    "    return next_timestep, i"
   ]
  },
  {
   "cell_type": "code",
   "execution_count": null,
   "metadata": {
    "collapsed": true,
    "scrolled": false
   },
   "outputs": [],
   "source": [
    "N = 50\n",
    "D = 1\n",
    "dx = 1/N\n",
    "initial = np.zeros([N+1,N+1])\n",
    "initial[0,:] = 1\n",
    "cur = initial\n",
    "\n",
    "%time arr,_ = jacobi(dx,D,cur,0.000001)\n",
    "\n",
    "fig, ax = plt.subplots()\n",
    "ax.imshow(arr, extent = [0,1,0,1])\n",
    "ax.set_title(\"Jacobi Iteration\")\n",
    "ax.set_xlabel(\"x\")\n",
    "ax.set_ylabel(\"y\")\n",
    "fig"
   ]
  },
  {
   "cell_type": "markdown",
   "metadata": {
    "collapsed": true
   },
   "source": [
    "# Gauss-Seidel Iteration"
   ]
  },
  {
   "cell_type": "code",
   "execution_count": null,
   "metadata": {
    "collapsed": true
   },
   "outputs": [],
   "source": [
    "@jit\n",
    "def diff_timestep_gs(cur, epsilon):\n",
    "    \"\"\"\n",
    "    Performs a single timestep of the diffusion equation for\n",
    "    Gauss-Seidel iterative method\n",
    "    \"\"\"\n",
    "    N = cur.shape[0]\n",
    "    conv_bool = True \n",
    "    for i in range(1,N-1):\n",
    "        for j in range(0,N):\n",
    "            prev = cur[i,j]\n",
    "            left = j-1 if not j==0 else N-1\n",
    "            right = j+1 if not j==N-1 else 0\n",
    "            cur[i,j] = 1/4 * (cur[i-1,j]+cur[i+1,j]+cur[i,right]+cur[i,left])\n",
    "            \n",
    "            # convergence condition\n",
    "            if abs(prev-cur[i,j]) > epsilon:\n",
    "                conv_bool = False        \n",
    "    return cur, conv_bool\n",
    "\n",
    "def gauss_seidel(cur,epsilon):\n",
    "    \"\"\"\n",
    "    Performs Gauss-Seidel iteration until convergence\n",
    "    \"\"\"\n",
    "    i = 0\n",
    "    conv_bool = False\n",
    "    \n",
    "    while not conv_bool:\n",
    "        cur, conv_bool = diff_timestep_gs(cur, epsilon)\n",
    "        i += 1\n",
    "    \n",
    "    return cur, i "
   ]
  },
  {
   "cell_type": "code",
   "execution_count": null,
   "metadata": {
    "collapsed": true
   },
   "outputs": [],
   "source": [
    "N = 50\n",
    "initial = np.zeros([N+1,N+1])\n",
    "initial[0,:] = 1\n",
    "cur = initial\n",
    "\n",
    "%time arr,_ = gauss_seidel(cur,0.0001)\n",
    "\n",
    "fig, ax = plt.subplots()\n",
    "ax.imshow(arr, extent = [0,1,0,1])\n",
    "ax.set_title(\"Gauss-Seidel Iteration\")\n",
    "ax.set_xlabel(\"x\")\n",
    "ax.set_ylabel(\"y\")\n",
    "fig"
   ]
  },
  {
   "cell_type": "markdown",
   "metadata": {},
   "source": [
    "## Successive Over Relaxation"
   ]
  },
  {
   "cell_type": "code",
   "execution_count": 7,
   "metadata": {
    "collapsed": true
   },
   "outputs": [],
   "source": [
    "@jit\n",
    "def diff_timestep_sor(cur, epsilon, omega):\n",
    "    \"\"\"\n",
    "    Performs a single timestep of the diffusion equation for\n",
    "    Successive Over Relaxation method\n",
    "    \"\"\"\n",
    "    N = cur.shape[0]\n",
    "    conv_bool = True  \n",
    "   \n",
    "    # iterate over the domain\n",
    "    for i in range(1,N-1):\n",
    "        for j in range(0,N):\n",
    "            prev = cur[i,j]\n",
    "            left = j-1 if not j==0 else N-1\n",
    "            right = j+1 if not j==N-1 else 0\n",
    "\n",
    "            cur[i,j] = omega/4 * (cur[i-1,j]+cur[i+1,j]+cur[i,right]+cur[i,left])\\\n",
    "                   + (1-omega) * cur[i,j]\n",
    "            \n",
    "            # convergence condition\n",
    "            if abs(prev-cur[i,j]) > epsilon:\n",
    "                conv_bool = False  \n",
    "    return cur, conv_bool\n",
    "\n",
    "def sor(cur, epsilon, omega, image=None):\n",
    "    \"\"\"\n",
    "    Performs successive over relaxation until convergence\n",
    "    \"\"\"\n",
    "    \n",
    "    conv_bool = False\n",
    "    i = 0\n",
    "    \n",
    "    if image is None:\n",
    "        while not conv_bool:\n",
    "            cur, conv_bool = diff_timestep_sor(cur, epsilon, omega)\n",
    "            i += 1\n",
    "    else:\n",
    "        while not conv_bool:\n",
    "            cur, conv_bool = diff_timestep_sor_img(cur, epsilon, omega, image)\n",
    "            i += 1\n",
    "    return cur, i\n",
    "            "
   ]
  },
  {
   "cell_type": "markdown",
   "metadata": {},
   "source": [
    "### Obtain optimal omega for SOR"
   ]
  },
  {
   "cell_type": "code",
   "execution_count": null,
   "metadata": {
    "collapsed": true,
    "scrolled": false
   },
   "outputs": [],
   "source": [
    "#need this for interactive 3d plotting!\n",
    "%matplotlib notebook\n",
    "\n",
    "#create figure\n",
    "fig = plt.figure()\n",
    "\n",
    "# set up the axes\n",
    "ax = fig.add_subplot(1, 1, 1, projection='3d')\n",
    "\n",
    "# create surface\n",
    "x = np.arange(1.4, 1.99, 0.005)\n",
    "y = np.arange(5, 60, 1)\n",
    "x, y = np.meshgrid(x, y)\n",
    "\n",
    "# obtain z-values\n",
    "z = np.zeros(x.shape)\n",
    "for i in range(x.shape[0]):\n",
    "    for j in range(y.shape[1]):\n",
    "        N = y[i,j]\n",
    "        omega = x[i,j]\n",
    "        initial = np.zeros([N+1,N+1])\n",
    "        initial[0,:] = 1\n",
    "        cur = initial\n",
    "        epsilon = 0.00001\n",
    "        \n",
    "        _, z[i,j] = sor(cur,epsilon,omega)\n",
    "\n",
    "#obtain line of minima\n",
    "N_list = []\n",
    "iter_list = []\n",
    "omega_list = []\n",
    "for i in range(z.shape[0]):\n",
    "    N_list.append(y[i,0])\n",
    "    iter_list.append(min(z[i,:]))\n",
    "    omega_list.append(x[i,np.argmin(z[i,:])])\n",
    "\n",
    "#plot wireframe and minimum values\n",
    "ax.plot_wireframe(x,y,z, rstride=3, cstride=3)\n",
    "ax.plot(omega_list,N_list,iter_list,'r',label=\"Optimal $\\omega$\")\n",
    "ax.set_xlabel(\"$\\omega$\")\n",
    "ax.set_ylabel(\"N\")\n",
    "ax.set_zlabel(\"Iterations\")\n",
    "\n",
    "#add legend\n",
    "ax.legend()\n",
    "\n",
    "#better initial view\n",
    "ax.view_init(elev=39, azim=-133)\n",
    "\n",
    "fig.savefig(\"optimalomega3d.pdf\");"
   ]
  },
  {
   "cell_type": "code",
   "execution_count": null,
   "metadata": {
    "collapsed": true,
    "scrolled": false
   },
   "outputs": [],
   "source": [
    "#print optimal omega and #iter for each N\n",
    "for i in range(len(N_list)):\n",
    "    print(\"N: %d, omega: %.3f, iterations: %d\"%(N_list[i], omega_list[i], iter_list[i]))\n",
    "\n",
    "#show N against omega\n",
    "fig, ax = plt.subplots()\n",
    "ax.plot(N_list,omega_list)\n",
    "\n",
    "ax.set_title(\"$\\omega$ as function of N\")\n",
    "ax.set_xlabel(\"N\")\n",
    "ax.set_ylabel(\"Optimal $\\omega$\")\n",
    "ax.grid()\n",
    "\n",
    "fig.savefig(\"omegaN.pdf\")\n",
    "\n",
    "#show N against #iter\n",
    "fig, ax = plt.subplots()\n",
    "ax.plot(N_list,iter_list)\n",
    "\n",
    "ax.set_title(\"Number of iterations needed as function of N\")\n",
    "ax.set_xlabel(\"N\")\n",
    "ax.set_ylabel(\"Number of iterations\")\n",
    "ax.grid()\n",
    "\n",
    "fig.savefig(\"omegaIterations.pdf\")"
   ]
  },
  {
   "cell_type": "code",
   "execution_count": null,
   "metadata": {
    "collapsed": true
   },
   "outputs": [],
   "source": [
    "from scipy.optimize import curve_fit\n",
    "\n",
    "def fit_func(x, a, b, c):\n",
    "    return a * x ** b + c\n",
    "\n",
    "popt, _ = curve_fit(fit_func, omega_list, N_list)\n",
    "\n",
    "fig,ax = plt.subplots()\n",
    "xdata = np.arange(1.7,1.93,0.01)\n",
    "\n",
    "ax.plot(fit_func(xdata, *popt),xdata,label='Fitted data')\n",
    "ax.plot(N_list, omega_list, \"r\", label='Original data')\n",
    "ax.legend()\n",
    "ax.set_title(\"Fitting optimal omega as function of N\")\n",
    "ax.set_xlabel(\"N\")\n",
    "ax.set_ylabel('$\\omega$')\n",
    "fig.savefig(\"omegaFit.pdf\")"
   ]
  },
  {
   "cell_type": "markdown",
   "metadata": {},
   "source": [
    "### Compare the three methods"
   ]
  },
  {
   "cell_type": "code",
   "execution_count": null,
   "metadata": {
    "collapsed": true
   },
   "outputs": [],
   "source": [
    "N = 50\n",
    "omega = 1.92\n",
    "initial = np.zeros([N+1,N+1])\n",
    "initial[0,:] = 1\n",
    "cur = initial\n",
    "\n",
    "epsilon_list = []\n",
    "jacobi_list = []\n",
    "gauss_seidel_list = []\n",
    "sor_list = []\n",
    "\n",
    "for i in np.arange(1,8,0.05):\n",
    "    epsilon = 10 ** (-i)\n",
    "    epsilon_list.append(i)\n",
    "    _, jacobi_res = jacobi(1/N, 1, cur.copy(), epsilon)\n",
    "    _, gauss_seidel_res = gauss_seidel(cur.copy(), epsilon)\n",
    "    _, sor_res = sor(cur.copy(), epsilon, omega)\n",
    "    jacobi_list.append(jacobi_res)\n",
    "    gauss_seidel_list.append(gauss_seidel_res)\n",
    "    sor_list.append(sor_res)\n",
    "    \n",
    "fig, ax = plt.subplots()\n",
    "ax.plot(epsilon_list, jacobi_list, label=\"Jacobi Iteration\")\n",
    "ax.plot(epsilon_list, gauss_seidel_list, label=\"Gauss-Seidel Iteration\")\n",
    "ax.plot(epsilon_list, sor_list, label=\"Successive OverRelaxation\")\n",
    "ax.grid()\n",
    "ax.legend()\n",
    "ax.set_title(\"Number of iterations for all three methods\")\n",
    "ax.set_xlabel('p ($\\epsilon$ = $10^{-p}$)')\n",
    "ax.set_ylabel(\"Number of iterations\")\n",
    "#try to obtain style as in lecture\n",
    "#https://stackoverflow.com/a/11579834\n",
    "ax.ticklabel_format(style='sci', axis='y', scilimits=(0,0))\n",
    "ax.yaxis.major.formatter._useMathText = True\n",
    "fig.savefig(\"ComparisonTimeIndep.pdf\")"
   ]
  },
  {
   "cell_type": "code",
   "execution_count": null,
   "metadata": {
    "collapsed": true,
    "scrolled": false
   },
   "outputs": [],
   "source": [
    "N = 50\n",
    "initial = np.zeros([N+1,N+1])\n",
    "initial[0,:] = 1\n",
    "cur = initial\n",
    "%time arr, _ = sor(cur,0.0001, 1.92)\n",
    "fig, ax = plt.subplots()\n",
    "ax.imshow(arr, extent = [0,1,0,1])\n",
    "ax.set_title(\"Successive OverRelaxation\")\n",
    "ax.set_xlabel(\"x\")\n",
    "ax.set_ylabel(\"y\");\n",
    "# fig.savefig(\"SORresult.pdf\")"
   ]
  },
  {
   "cell_type": "code",
   "execution_count": null,
   "metadata": {
    "collapsed": true
   },
   "outputs": [],
   "source": [
    "# compute difference compared to analytical solution (to do)\n",
    "def MSE(result):\n",
    "    return sum(abs(np.linspace(1,0,N+1)-result[:,1])**2)\n",
    "\n",
    "N = 50\n",
    "initial = np.zeros([N+1,N+1])\n",
    "initial[0,:] = 1\n",
    "\n",
    "epsilon = 1E-4\n",
    "\n",
    "print(\"Errors for the three methods with epsilon = %.2e\"%epsilon)\n",
    "jac_res,_ = jacobi(1/N,1,initial.copy(),epsilon)\n",
    "print(\"Jacobi: %.5e\"%(MSE(jac_res)))\n",
    "gs_res,_ = gauss_seidel(initial.copy(),epsilon)\n",
    "print(\"Gauss-Seidel: %.5e\"%(MSE(gs_res)))\n",
    "sor_res,_ = sor(initial.copy(),epsilon,1.92)\n",
    "print(\"SOR: %.5e\"%(MSE(sor_res)))\n",
    "fig,ax = plt.subplots()\n",
    "x = np.arange(0,1.02,0.02)\n",
    "\n",
    "#use x[::-1] to show correct y-values\n",
    "ax.plot(x[::-1],jac_res[:,0],label=\"Jacobi\")\n",
    "ax.plot(x[::-1],gs_res[:,0],label=\"Gauss-Seidel\")\n",
    "ax.plot(x[::-1],sor_res[:,0],label=\"Successive OverRelaxation\")\n",
    "ax.set_title(\"Convergence to y=x for the three methods\")\n",
    "ax.set_xlabel(\"y\")\n",
    "ax.set_ylabel(\"concentration\")\n",
    "ax.grid()\n",
    "ax.legend();"
   ]
  },
  {
   "cell_type": "markdown",
   "metadata": {},
   "source": [
    "## Adding an Object to the Domain"
   ]
  },
  {
   "cell_type": "code",
   "execution_count": 3,
   "metadata": {
    "collapsed": true
   },
   "outputs": [],
   "source": [
    "@jit\n",
    "def diff_timestep_sor_img(cur, epsilon, omega, image):\n",
    "    \"\"\"\n",
    "    Performs a single timestep of the diffusion equation for\n",
    "    Successive Over Relaxation method\n",
    "    \"\"\"\n",
    "    N = cur.shape[0]\n",
    "    conv_bool = True \n",
    "    \n",
    "    # read image\n",
    "    assert cur.shape == image.shape, \"Cur and Image have to be the same size!\"\n",
    "        \n",
    "    # iterate over the domain\n",
    "    for i in range(1,N-1):\n",
    "        for j in range(0,N):\n",
    "            prev = cur[i,j]\n",
    "            left = j-1 if not j==0 else N-1\n",
    "            right = j+1 if not j==N-1 else 0\n",
    "            \n",
    "            if image[i,j] == True:\n",
    "                cur[i,j] = 0\n",
    "            else:\n",
    "                cur[i,j] = omega/4 * (cur[i-1,j]+cur[i+1,j]+cur[i,right]+cur[i,left])\\\n",
    "                       + (1-omega) * cur[i,j]\n",
    "            \n",
    "            # convergence condition\n",
    "            if abs(prev-cur[i,j]) > epsilon:\n",
    "                conv_bool = False  \n",
    "    return cur, conv_bool"
   ]
  },
  {
   "cell_type": "code",
   "execution_count": 4,
   "metadata": {},
   "outputs": [],
   "source": [
    "# images: object_three_sq.jpg, object_circle.jpg, object_weird_shape.jpg, object.jpg\n",
    "image = 'object.jpg'\n",
    "\n",
    "object_array = imageio.imread(image, pilmode='L')\n",
    "fig, ax = plt.subplots()\n",
    "ax.imshow(object_array, cmap='gray');"
   ]
  },
  {
   "cell_type": "code",
   "execution_count": 5,
   "metadata": {
    "collapsed": true
   },
   "outputs": [],
   "source": [
    "# true for object parts\n",
    "object_array = imageio.imread(image, pilmode='L') #re-read, as we modify 'in-place'\n",
    "object_array[object_array<=127] = True\n",
    "object_array[object_array>=128] = False\n",
    "object_array = np.array(object_array.astype(bool))\n",
    "# object_array[20,20]"
   ]
  },
  {
   "cell_type": "code",
   "execution_count": 11,
   "metadata": {},
   "outputs": [
    {
     "name": "stdout",
     "output_type": "stream",
     "text": [
      "CPU times: user 9.41 ms, sys: 370 µs, total: 9.78 ms\n",
      "Wall time: 9.77 ms\n"
     ]
    },
    {
     "data": {
      "image/png": "[encoded data removed]",
      "text/plain": [
       "<matplotlib.figure.Figure at 0x7fd665d9dd68>"
      ]
     },
     "metadata": {},
     "output_type": "display_data"
    }
   ],
   "source": [
    "%matplotlib inline\n",
    "N = 49 #50-1, as we want 50 points, including initial and endpoint\n",
    "initial = np.zeros([N+1,N+1])\n",
    "initial[0,:] = 1\n",
    "cur = initial\n",
    "%time arr, _ = sor(cur,1E-10, 1.92, object_array)\n",
    "fig, ax = plt.subplots()\n",
    "# im = ax.imshow(arr, extent = [0,1,0,1], cmap='gist_rainbow')\n",
    "\n",
    "# some colormaps: gist_stern, nipy_spectral, \n",
    "\n",
    "im = ax.imshow(arr, extent = [0,1,0,1], cmap='nipy_spectral')\n",
    "\n",
    "cb = plt.colorbar(im)\n",
    "if image == 'object_circle.jpg':\n",
    "    ax.set_title(\"Diffusion with circular object\")\n",
    "    save_file = 'diffusion_circle.pdf'\n",
    "elif image == 'object_three_sq.jpg':\n",
    "    ax.set_title(\"Diffusion with three square objects\")\n",
    "    save_file = 'diffusion_three_sq.pdf'\n",
    "elif image == 'object.jpg':\n",
    "    ax.set_title(\"Diffusion with square object\")\n",
    "    save_file = 'diffusion_square.pdf'\n",
    "else:\n",
    "    ax.set_title(\"Diffusion with some object\")\n",
    "    save_file = 'diffusionobject.pdf'\n",
    "ax.set_xlabel(\"x\")\n",
    "ax.set_ylabel(\"y\")\n",
    "\n",
    "fig.savefig(save_file)"
   ]
  },
  {
   "cell_type": "code",
   "execution_count": 9,
   "metadata": {
    "collapsed": true
   },
   "outputs": [],
   "source": [
    "fig, ax = plt.subplots()\n",
    "ax.plot(arr[:,20]);\n"
   ]
  },
  {
   "cell_type": "markdown",
   "metadata": {},
   "source": [
    "#### Comparing omega and number of iterations with(out) object"
   ]
  },
  {
   "cell_type": "code",
   "execution_count": null,
   "metadata": {
    "collapsed": true
   },
   "outputs": [],
   "source": [
    "sor_list = []\n",
    "img_list = []\n",
    "omega_list = []\n",
    "\n",
    "N = 49\n",
    "epsilon = 1E-5\n",
    "for omega in np.arange(1.7,1.99,0.001):\n",
    "    initial = np.zeros([N+1,N+1])\n",
    "    initial[0,:] = 1\n",
    "    \n",
    "    _, i_sor = sor(initial.copy(),epsilon,omega)\n",
    "    _, i_img = sor(initial.copy(),epsilon,omega,object_array)\n",
    "    \n",
    "    sor_list.append(i_sor)\n",
    "    img_list.append(i_img)\n",
    "    omega_list.append(omega)\n",
    "fig, ax = plt.subplots()\n",
    "ax.plot(omega_list, sor_list, label=\"SOR without object\")\n",
    "ax.plot(omega_list, img_list, label=\"SOR with object\")\n",
    "ax.grid()\n",
    "ax.legend()\n",
    "ax.set_title(\"Comparing $\\omega$ and number of iterations with(out) object\")\n",
    "ax.set_xlabel(\"$\\omega$\")\n",
    "ax.set_ylabel(\"Number of iterations\")\n",
    "fig.savefig(\"OmegaIterWithObject.pdf\")\n",
    "\n",
    "print(\"Optimal omega without object: %.3f (%d iterations)\"%(omega_list[np.argmin(sor_list)],np.min(sor_list)))\n",
    "print(\"Optimal omega with object: %.3f (%d iterations)\"%(omega_list[np.argmin(img_list)],np.min(img_list)))"
   ]
  }
 ],
 "metadata": {
  "kernelspec": {
   "display_name": "Python 3",
   "language": "python",
   "name": "python3"
  },
  "language_info": {
   "codemirror_mode": {
    "name": "ipython",
    "version": 3
   },
   "file_extension": ".py",
   "mimetype": "text/x-python",
   "name": "python",
   "nbconvert_exporter": "python",
   "pygments_lexer": "ipython3",
   "version": "3.6.1"
  }
 },
 "nbformat": 4,
 "nbformat_minor": 2
}
