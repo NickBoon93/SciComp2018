{
 "cells": [
  {
   "cell_type": "markdown",
   "metadata": {},
   "source": [
    "## Lab Assignment 1 Scientific Computing"
   ]
  },
  {
   "cell_type": "code",
   "execution_count": null,
   "metadata": {
    "collapsed": true
   },
   "outputs": [],
   "source": [
    "import numpy as np\n",
    "from scipy.sparse import diags\n",
    "\n",
    "from matplotlib import pyplot as plt\n",
    "from matplotlib import animation,rc\n",
    "\n",
    "from IPython.display import HTML\n",
    "rc('animation',html='html5')"
   ]
  },
  {
   "cell_type": "markdown",
   "metadata": {},
   "source": [
    "### 1.2: Vibrating String\n",
    "\n",
    "In this exercise, we discretize the 1D wave equation to solve it numerically."
   ]
  },
  {
   "cell_type": "code",
   "execution_count": null,
   "metadata": {},
   "outputs": [],
   "source": [
    "# matrix with (part of) discretized terms in wave equation \n",
    "def wave_discr_matrix(dt, L, N, x0, xL):\n",
    "    dx = L / N\n",
    "    diagonals = [[1] * (N - 2) + [0], [0] + [-2] * (N - 2) + [0], [0] + [1] * (N - 2)]\n",
    "    u_matrix = diags(diagonals, [-1, 0, 1]).toarray()\n",
    "    return u_matrix\n",
    "\n",
    "# function which returns next state vector based on previous and current\n",
    "def time_step(discr_matrix, previous_vector, current_vector, c, dt, dx):\n",
    "    \n",
    "    next_state = ((c**2 * dt**2) / dx**2) * np.dot(discr_matrix, current_vector) - previous_vector + 2 * current_vector \n",
    "    return next_state\n",
    "\n",
    "# constants\n",
    "L = 1\n",
    "N = 100\n",
    "dx = L/N\n",
    "dt = 0.001\n",
    "c = 1\n",
    "\n",
    "# create vector with initial amplitudes on each x position\n",
    "x_vector = np.array([i for i in np.arange(0, L + L / N, L/N)]).reshape([101,1])\n",
    "current_state = np.array([np.sin(5 * np.pi * x) if 1/5<x<2/5 else 0 for x in x_vector])\n",
    "previous_state = current_state\n",
    "\n",
    "# discretized matrix\n",
    "discr_matrix = wave_discr_matrix(1, 1, current_state.shape[0], 0, 0)\n",
    "\n",
    "# find a series of next states and plot\n",
    "# First set up the figure, the axis, and the plot element we want to animate\n",
    "# make figure to plot in\n",
    "fig = plt.figure()\n",
    "ax = fig.add_subplot(111)\n",
    "line, = ax.plot(x_vector, current_state)\n",
    "\n",
    "# initialization function: plot the background of each frame\n",
    "def init():\n",
    "    line.set_ydata(np.ma.array(x_vector,mask=True))\n",
    "    return line,\n",
    "\n",
    "# animation function.  This is called sequentially\n",
    "def animate(i):\n",
    "    global previous_state, current_state\n",
    "    new_state = time_step(discr_matrix, previous_state, current_state, c, dt, dx)\n",
    "    previous_state = current_state\n",
    "    current_state = new_state\n",
    "    line.set_ydata(new_state)\n",
    "    return line,\n",
    "\n",
    "# call the animator.  blit=True means only re-draw the parts that have changed.\n",
    "animation.FuncAnimation(fig, animate, init_func=init,\n",
    "                               frames=200, interval=50, blit=True)"
   ]
  },
  {
   "cell_type": "markdown",
   "metadata": {
    "collapsed": true
   },
   "source": [
    "### 1.2: Time Dependent Diffusion Equation\n"
   ]
  },
  {
   "cell_type": "code",
   "execution_count": null,
   "metadata": {},
   "outputs": [],
   "source": [
    "def diff_timestep(dt,dx,D,cur):\n",
    "    N = cur.shape[0]\n",
    "    next_timestep = cur \n",
    "    for i in range(1,N-1):\n",
    "        for j in range(0,N):\n",
    "            left = int((N + i - 1) % N)\n",
    "            right = int((N + i + 1) % N)\n",
    "            next_timestep[i,j] = cur[i,j] + (dt * D)/(dx**2) * (cur[i-1,j]+cur[i+1,j]+cur[i,right]+cur[i,left]-4*cur[i,j])\n",
    "    return next_timestep\n",
    "\n",
    "N = 30\n",
    "D = 1\n",
    "t_end = 0.5\n",
    "dt = 0.00025\n",
    "dx = 1/N\n",
    "initial = np.zeros([N,N])\n",
    "initial[0,:] = 1\n",
    "print(4*dt*D/(dx**2))\n",
    "\n",
    "assert 4*dt*D/(dx**2) <= 1,\"Scheme is unstable for chosen values!\"\n",
    "\n",
    "fig, ax = plt.subplots()\n",
    "cur = initial\n",
    "im = ax.imshow(cur, extent = [0,1,1,0])\n",
    "cb = fig.colorbar(im)\n",
    "\n",
    "def animate(i):\n",
    "    global cur\n",
    "    cur = diff_timestep(dt,dx,D,cur)\n",
    "    im.set_data(cur)\n",
    "    im.set_clim(0,1)\n",
    "    \n",
    "timesteps = int(t_end / dt)\n",
    "animation.FuncAnimation(fig,animate,frames=timesteps,interval=10)"
   ]
  },
  {
   "cell_type": "code",
   "execution_count": null,
   "metadata": {
    "collapsed": true
   },
   "outputs": [],
   "source": []
  }
 ],
 "metadata": {
  "kernelspec": {
   "display_name": "Python 3",
   "language": "python",
   "name": "python3"
  },
  "language_info": {
   "codemirror_mode": {
    "name": "ipython",
    "version": 3
   },
   "file_extension": ".py",
   "mimetype": "text/x-python",
   "name": "python",
   "nbconvert_exporter": "python",
   "pygments_lexer": "ipython3",
   "version": "3.6.1"
  }
 },
 "nbformat": 4,
 "nbformat_minor": 2
}
