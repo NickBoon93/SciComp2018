{
 "cells": [
  {
   "cell_type": "markdown",
   "metadata": {},
   "source": [
    "# Lab Assignment 2 Scientific Computing\n",
    "\n",
    "Nick Boon & Marleen Rijksen"
   ]
  },
  {
   "cell_type": "code",
   "execution_count": 1,
   "metadata": {},
   "outputs": [],
   "source": [
    "import numpy as np\n",
    "\n",
    "from matplotlib import pyplot as plt\n",
    "from matplotlib import animation,rc\n",
    "\n",
    "from IPython.display import HTML\n",
    "rc('animation',html='html5')\n",
    "\n",
    "from numba import jit\n",
    "\n",
    "%matplotlib inline"
   ]
  },
  {
   "cell_type": "markdown",
   "metadata": {},
   "source": [
    "### K. Implementation of Diffusion Limited Aggregation (DLA)"
   ]
  },
  {
   "cell_type": "code",
   "execution_count": 2,
   "metadata": {},
   "outputs": [],
   "source": [
    "@jit\n",
    "def diff_timestep_sor_img(cur, epsilon, omega, image):\n",
    "    \"\"\"\n",
    "    Performs a single timestep of the diffusion equation for\n",
    "    Successive Over Relaxation method\n",
    "    \"\"\"\n",
    "    N = cur.shape[0]\n",
    "    conv_bool = True \n",
    "    \n",
    "    # read image\n",
    "    assert cur.shape == image.shape, \"Cur and Image have to be the same size!\"\n",
    "        \n",
    "    # iterate over the domain\n",
    "    for i in range(1,N-1):\n",
    "        for j in range(0,N):\n",
    "            prev = cur[i,j]\n",
    "            left = j-1 if not j==0 else N-1\n",
    "            right = j+1 if not j==N-1 else 0\n",
    "            \n",
    "            if image[i,j] == True:\n",
    "                cur[i,j] = 0\n",
    "            else:\n",
    "                cur[i,j] = omega/4 * (cur[i-1,j]+cur[i+1,j]+cur[i,right]+cur[i,left])\\\n",
    "                       + (1-omega) * cur[i,j]\n",
    "            \n",
    "            # convergence condition\n",
    "            if abs(prev-cur[i,j]) > epsilon:\n",
    "                conv_bool = False  \n",
    "    return cur, conv_bool\n",
    "\n",
    "def object_growth(cur, image, eta):\n",
    "    \"\"\"\n",
    "    Performs object growth in diffusion domain\n",
    "    \"\"\"\n",
    "    \n",
    "    \n",
    "\n",
    "def sor(cur, epsilon, omega, image):\n",
    "    \"\"\"\n",
    "    Performs successive over relaxation until convergence\n",
    "    \"\"\"\n",
    "    \n",
    "    conv_bool = False\n",
    "    i = 0\n",
    "    while not conv_bool:\n",
    "        cur, conv_bool = diff_timestep_sor_img(cur, epsilon, omega, image)\n",
    "        i += 1\n",
    "    return cur, i"
   ]
  },
  {
   "cell_type": "code",
   "execution_count": 3,
   "metadata": {},
   "outputs": [],
   "source": [
    "def update_obj_dict(cur,obj_dict,add_object):\n",
    "    \"\"\"\n",
    "    Update neighbour dictionary and sets concentration to zero\n",
    "    \n",
    "    Assumes origin at upper-left\n",
    "    \n",
    "    Input:\n",
    "    shape (y,x) shape of space\n",
    "    obj_dict    dictionary containing (y,x)-tuples\n",
    "                True: part of object\n",
    "                False: neighbour of object\n",
    "    add_object (y,x)   location of newly added part of object\n",
    "    \n",
    "    Output:\n",
    "    obj_dict    updated dictionary of object and candidate locations\n",
    "                in (y,x)-tuples\n",
    "    \"\"\"\n",
    "    \n",
    "    shape = cur.shape\n",
    "    y,x = add_object\n",
    "    \n",
    "    #add to object --> True\n",
    "    obj_dict[add_object] = True\n",
    "    cur[add_object] = 0\n",
    "    \n",
    "    #set potential --> False\n",
    "    \n",
    "    #left\n",
    "    if (y,x-1 if x > 0 else shape[1]-1) not in obj_dict:\n",
    "        obj_dict[(y,x-1 if x > 0 else shape[1]-1)] = False\n",
    "    #right\n",
    "    if (y,x+1 if x < shape[1]-1 else 0) not in obj_dict:\n",
    "        obj_dict[(y,x+1 if x < shape[1]-1 else 0)] = False\n",
    "    #down (actually up with origin upper-left)\n",
    "    if y-1 != 0 and (y-1,x) not in obj_dict:\n",
    "        obj_dict[(y-1,x)] = False\n",
    "    #up (actually down with origin upper-left)\n",
    "    if y+1 != shape[0]-1 and (y+1,x) not in obj_dict:\n",
    "        obj_dict[(y+1,x)] = False\n",
    "    \n",
    "    #return updated dict\n",
    "    return cur, obj_dict\n",
    "    \n",
    "def generate_initial(shape,obj_loc,boundary_cond):\n",
    "    \"\"\"\n",
    "    Generate initial concentration and object arrays\n",
    "    \n",
    "    Assume origin at upper-left of matrix\n",
    "    \n",
    "    Input:\n",
    "    shape (y,x)\n",
    "    obj_loc (y,x)\n",
    "    boundary_cond (y=0, y=ymax)\n",
    "    \n",
    "    Output:\n",
    "    box [xmin, xmax, ymin, ymax]\n",
    "    \"\"\"\n",
    "    \n",
    "    #init concentration array\n",
    "    cur = np.zeros(shape)\n",
    "    cur[0,:], cur[cur.shape[0]-1,:] = boundary_cond\n",
    "    \n",
    "    #cannot init object on boundary\n",
    "    assert obj_loc[0] not in (0,shape[0]-1), \"cannot start at y-boundary\"\n",
    "    cur[obj_loc] = 5\n",
    "\n",
    "    cur,obj_dict = update_obj_dict(cur,{},obj_loc)\n",
    "    \n",
    "    return cur,obj_dict\n",
    "\n",
    "def show_object(cur,obj_dict):\n",
    "    \"\"\"\n",
    "    Generates figure, showing the concentration with the object\n",
    "    and candidate sites. Returns the figure and axes used.\n",
    "    \"\"\"\n",
    "    \n",
    "    #init figure, axes\n",
    "    fig,ax = plt.subplots()\n",
    "    \n",
    "    #plot concentration and colorbar\n",
    "    cb = ax.imshow(cur,origin='lower')\n",
    "    plt.colorbar(cb)\n",
    "    \n",
    "    #plot the object and candidate sites\n",
    "    #reduce size of marker for when more space is shown\n",
    "    size = 30000 / max(cur.shape)**2\n",
    "    #iterate over locations\n",
    "    for k,v in obj_dict.items():\n",
    "        y,x = k\n",
    "        if v: #object -> True\n",
    "            ax.scatter(x,y,s=size, facecolors='k', edgecolors='k')\n",
    "        elif not v: #candidate -> False\n",
    "            ax.scatter(x,y,s=size, facecolors='none', edgecolors='k')\n",
    "    return fig,ax"
   ]
  },
  {
   "cell_type": "code",
   "execution_count": 4,
   "metadata": {},
   "outputs": [
    {
     "name": "stdout",
     "output_type": "stream",
     "text": [
      "Object at: [(3, 3)]\n",
      "Candidates at: [(3, 2), (3, 4), (2, 3), (4, 3)]\n"
     ]
    },
    {
     "data": {
      "image/png": "[encoded data removed]",
      "text/plain": [
       "<Figure size 432x288 with 2 Axes>"
      ]
     },
     "metadata": {},
     "output_type": "display_data"
    }
   ],
   "source": [
    "#Generate the concentration array and object dictionary with these parameters:\n",
    "#Size: 10x10\n",
    "#Object starts at (y,x) = (3,3)\n",
    "#Boundaries at (0,ymax) = (1,2)\n",
    "cur, obj_dict = generate_initial((10,10),(3,3),(1,2))\n",
    "\n",
    "#show generated initial state\n",
    "fig,ax = plt.subplots()\n",
    "cb = ax.imshow(cur,origin='lower') #this transforms the matrix such that the origin moves from upper-left to lower-left\n",
    "plt.colorbar(cb)\n",
    "\n",
    "print(\"Object at: %s\"%[k for k,v in obj_dict.items() if v == True])\n",
    "print(\"Candidates at: %s\"%[k for k,v in obj_dict.items() if v == False])"
   ]
  },
  {
   "cell_type": "code",
   "execution_count": 8,
   "metadata": {},
   "outputs": [
    {
     "data": {
      "text/plain": [
       "Text(0,0.5,'y')"
      ]
     },
     "execution_count": 8,
     "metadata": {},
     "output_type": "execute_result"
    },
    {
     "data": {
      "image/png": "[encoded data removed]",
      "text/plain": [
       "<Figure size 432x288 with 2 Axes>"
      ]
     },
     "metadata": {},
     "output_type": "display_data"
    }
   ],
   "source": [
    "fig,ax = show_object(cur,obj_dict)\n",
    "ax.set_title(\"Object, candidates and concentration\")\n",
    "ax.set_xlabel(\"x\")\n",
    "ax.set_ylabel(\"y\")"
   ]
  },
  {
   "cell_type": "code",
   "execution_count": null,
   "metadata": {},
   "outputs": [],
   "source": []
  }
 ],
 "metadata": {
  "kernelspec": {
   "display_name": "Python 3",
   "language": "python",
   "name": "python3"
  },
  "language_info": {
   "codemirror_mode": {
    "name": "ipython",
    "version": 3
   },
   "file_extension": ".py",
   "mimetype": "text/x-python",
   "name": "python",
   "nbconvert_exporter": "python",
   "pygments_lexer": "ipython3",
   "version": "3.6.5"
  }
 },
 "nbformat": 4,
 "nbformat_minor": 2
}
