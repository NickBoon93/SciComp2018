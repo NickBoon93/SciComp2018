{
 "cells": [
  {
   "cell_type": "markdown",
   "metadata": {},
   "source": [
    "# Lab Assignment 2 Scientific Computing\n",
    "\n",
    "Nick Boon & Marleen Rijksen"
   ]
  },
  {
   "cell_type": "code",
   "execution_count": 2,
   "metadata": {
    "collapsed": true
   },
   "outputs": [],
   "source": [
    "import numpy as np\n",
    "\n",
    "from matplotlib import pyplot as plt\n",
    "from matplotlib import animation,rc\n",
    "\n",
    "from IPython.display import HTML\n",
    "rc('animation',html='html5')\n",
    "\n",
    "from numba import jit"
   ]
  },
  {
   "cell_type": "markdown",
   "metadata": {},
   "source": [
    "### K. Implementation of Diffusion Limited Aggregation (DLA)"
   ]
  },
  {
   "cell_type": "code",
   "execution_count": 7,
   "metadata": {
    "collapsed": true
   },
   "outputs": [],
   "source": [
    "@jit\n",
    "def diff_timestep_sor_img(cur, epsilon, omega, image):\n",
    "    \"\"\"\n",
    "    Performs a single timestep of the diffusion equation for\n",
    "    Successive Over Relaxation method\n",
    "    \"\"\"\n",
    "    N = cur.shape[0]\n",
    "    conv_bool = True \n",
    "    \n",
    "    # read image\n",
    "    assert cur.shape == image.shape, \"Cur and Image have to be the same size!\"\n",
    "        \n",
    "    # iterate over the domain\n",
    "    for i in range(1,N-1):\n",
    "        for j in range(0,N):\n",
    "            prev = cur[i,j]\n",
    "            left = j-1 if not j==0 else N-1\n",
    "            right = j+1 if not j==N-1 else 0\n",
    "            \n",
    "            if image[i,j] == True:\n",
    "                cur[i,j] = 0\n",
    "            else:\n",
    "                cur[i,j] = omega/4 * (cur[i-1,j]+cur[i+1,j]+cur[i,right]+cur[i,left])\\\n",
    "                       + (1-omega) * cur[i,j]\n",
    "            \n",
    "            # convergence condition\n",
    "            if abs(prev-cur[i,j]) > epsilon:\n",
    "                conv_bool = False  \n",
    "    return cur, conv_bool\n",
    "\n",
    "def object_growth(cur, image, eta):\n",
    "    \"\"\"\n",
    "    Performs object growth in diffusion domain\n",
    "    \"\"\"\n",
    "    \n",
    "    \n",
    "\n",
    "def sor(cur, epsilon, omega, image):\n",
    "    \"\"\"\n",
    "    Performs successive over relaxation until convergence\n",
    "    \"\"\"\n",
    "    \n",
    "    conv_bool = False\n",
    "    i = 0\n",
    "    while not conv_bool:\n",
    "        cur, conv_bool = diff_timestep_sor_img(cur, epsilon, omega, image)\n",
    "        i += 1\n",
    "    return cur, i"
   ]
  },
  {
   "cell_type": "code",
   "execution_count": null,
   "metadata": {
    "collapsed": true
   },
   "outputs": [],
   "source": []
  }
 ],
 "metadata": {
  "kernelspec": {
   "display_name": "Python 3",
   "language": "python",
   "name": "python3"
  },
  "language_info": {
   "codemirror_mode": {
    "name": "ipython",
    "version": 3
   },
   "file_extension": ".py",
   "mimetype": "text/x-python",
   "name": "python",
   "nbconvert_exporter": "python",
   "pygments_lexer": "ipython3",
   "version": "3.6.1"
  }
 },
 "nbformat": 4,
 "nbformat_minor": 2
}
